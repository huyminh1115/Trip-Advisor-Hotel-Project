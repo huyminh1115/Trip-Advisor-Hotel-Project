{
  "nbformat": 4,
  "nbformat_minor": 0,
  "metadata": {
    "colab": {
      "provenance": [],
      "gpuType": "V28",
      "authorship_tag": "ABX9TyOEKSe3mVKOfUI+osQvNoju",
      "include_colab_link": true
    },
    "kernelspec": {
      "name": "python3",
      "display_name": "Python 3"
    },
    "language_info": {
      "name": "python"
    },
    "accelerator": "TPU"
  },
  "cells": [
    {
      "cell_type": "markdown",
      "metadata": {
        "id": "view-in-github",
        "colab_type": "text"
      },
      "source": [
        "<a href=\"https://colab.research.google.com/github/huyminh1115/Trip-Advisor-Hotel-Project/blob/main/Code/Final_Simple_MLP_model.ipynb\" target=\"_parent\"><img src=\"https://colab.research.google.com/assets/colab-badge.svg\" alt=\"Open In Colab\"/></a>"
      ]
    },
    {
      "cell_type": "code",
      "execution_count": 2,
      "metadata": {
        "id": "bCv6N_L7VN7Y"
      },
      "outputs": [],
      "source": [
        "import string\n",
        "import numpy as np\n",
        "import pandas as pd\n",
        "import seaborn as sns\n",
        "import matplotlib.pyplot as plt\n",
        "import tensorflow as tf\n",
        "import pickle\n",
        "from wordcloud import WordCloud\n",
        "\n",
        "# Preprocessing and evaluation\n",
        "from nltk.corpus import stopwords\n",
        "from nltk.stem.snowball import SnowballStemmer\n",
        "from nltk.stem.wordnet import WordNetLemmatizer\n",
        "from sklearn.model_selection import train_test_split, StratifiedKFold, cross_val_score, GridSearchCV\n",
        "from sklearn.preprocessing import LabelBinarizer\n",
        "from sklearn.feature_extraction.text import TfidfVectorizer\n",
        "from sklearn.metrics import confusion_matrix, classification_report\n",
        "from tensorflow.keras.preprocessing.text import Tokenizer\n",
        "from tensorflow.keras.preprocessing.sequence import pad_sequences\n",
        "from tensorflow.keras.regularizers import l1, l2"
      ]
    },
    {
      "cell_type": "code",
      "source": [
        "from google.colab import drive\n",
        "drive.mount('/content/drive')"
      ],
      "metadata": {
        "colab": {
          "base_uri": "https://localhost:8080/"
        },
        "id": "KCc5685maPPU",
        "outputId": "67f7fa7a-6553-4b38-8ef2-6066c6bb9351"
      },
      "execution_count": 3,
      "outputs": [
        {
          "output_type": "stream",
          "name": "stdout",
          "text": [
            "Mounted at /content/drive\n"
          ]
        }
      ]
    },
    {
      "cell_type": "code",
      "source": [
        "data = pd.read_csv(\"/content/drive/MyDrive/Colab Notebooks/processed_data_v2.csv\")"
      ],
      "metadata": {
        "id": "sWNSUoQ8aaBo"
      },
      "execution_count": 4,
      "outputs": []
    },
    {
      "cell_type": "code",
      "source": [
        "data.head()"
      ],
      "metadata": {
        "colab": {
          "base_uri": "https://localhost:8080/",
          "height": 293
        },
        "id": "qTqcXWPCacp3",
        "outputId": "f219f576-a90e-467b-f442-5c2ceda612db"
      },
      "execution_count": 5,
      "outputs": [
        {
          "output_type": "execute_result",
          "data": {
            "text/plain": [
              "                                              Review  Rating  Length  \\\n",
              "0  nice hotel expensive parking got good deal sta...       4     593   \n",
              "1  ok nothing special charge diamond member hilto...       2    1689   \n",
              "2  nice rooms not 4* experience hotel monaco seat...       3    1427   \n",
              "3  unique, great stay, wonderful time hotel monac...       5     600   \n",
              "4  great stay great stay, went seahawk game aweso...       5    1281   \n",
              "\n",
              "   Word_count                                     cleaned_review  sentiment  \\\n",
              "0          87  nice hotel expensive parking got good deal sta...   0.208744   \n",
              "1         250  ok nothing special charge diamond member hilto...   0.248633   \n",
              "2         217  nice room experience hotel monaco seattle good...   0.294420   \n",
              "3          89  unique great stay wonderful time hotel monaco ...   0.504825   \n",
              "4         191  great stay great stay went seahawk game awesom...   0.469643   \n",
              "\n",
              "                                    tokenized_review  \\\n",
              "0  ['nice', 'hotel', 'expensive', 'parking', 'got...   \n",
              "1  ['ok', 'nothing', 'special', 'charge', 'diamon...   \n",
              "2  ['nice', 'room', 'experience', 'hotel', 'monac...   \n",
              "3  ['unique', 'great', 'stay', 'wonderful', 'time...   \n",
              "4  ['great', 'stay', 'great', 'stay', 'went', 'se...   \n",
              "\n",
              "                                       review_vector  \n",
              "0  [ 0.26746067 -0.39511007  0.2275819   0.329419...  \n",
              "1  [-0.13580382 -0.10084884 -0.06840305  0.191020...  \n",
              "2  [ 0.12907822 -0.4086012   0.00375678  0.077708...  \n",
              "3  [ 0.14176802 -0.31248108  0.11944489  0.082050...  \n",
              "4  [-0.13615511 -0.08891882 -0.0077215   0.260447...  "
            ],
            "text/html": [
              "\n",
              "  <div id=\"df-8ce572d4-cb02-478a-a1fd-6094208b5ba8\" class=\"colab-df-container\">\n",
              "    <div>\n",
              "<style scoped>\n",
              "    .dataframe tbody tr th:only-of-type {\n",
              "        vertical-align: middle;\n",
              "    }\n",
              "\n",
              "    .dataframe tbody tr th {\n",
              "        vertical-align: top;\n",
              "    }\n",
              "\n",
              "    .dataframe thead th {\n",
              "        text-align: right;\n",
              "    }\n",
              "</style>\n",
              "<table border=\"1\" class=\"dataframe\">\n",
              "  <thead>\n",
              "    <tr style=\"text-align: right;\">\n",
              "      <th></th>\n",
              "      <th>Review</th>\n",
              "      <th>Rating</th>\n",
              "      <th>Length</th>\n",
              "      <th>Word_count</th>\n",
              "      <th>cleaned_review</th>\n",
              "      <th>sentiment</th>\n",
              "      <th>tokenized_review</th>\n",
              "      <th>review_vector</th>\n",
              "    </tr>\n",
              "  </thead>\n",
              "  <tbody>\n",
              "    <tr>\n",
              "      <th>0</th>\n",
              "      <td>nice hotel expensive parking got good deal sta...</td>\n",
              "      <td>4</td>\n",
              "      <td>593</td>\n",
              "      <td>87</td>\n",
              "      <td>nice hotel expensive parking got good deal sta...</td>\n",
              "      <td>0.208744</td>\n",
              "      <td>['nice', 'hotel', 'expensive', 'parking', 'got...</td>\n",
              "      <td>[ 0.26746067 -0.39511007  0.2275819   0.329419...</td>\n",
              "    </tr>\n",
              "    <tr>\n",
              "      <th>1</th>\n",
              "      <td>ok nothing special charge diamond member hilto...</td>\n",
              "      <td>2</td>\n",
              "      <td>1689</td>\n",
              "      <td>250</td>\n",
              "      <td>ok nothing special charge diamond member hilto...</td>\n",
              "      <td>0.248633</td>\n",
              "      <td>['ok', 'nothing', 'special', 'charge', 'diamon...</td>\n",
              "      <td>[-0.13580382 -0.10084884 -0.06840305  0.191020...</td>\n",
              "    </tr>\n",
              "    <tr>\n",
              "      <th>2</th>\n",
              "      <td>nice rooms not 4* experience hotel monaco seat...</td>\n",
              "      <td>3</td>\n",
              "      <td>1427</td>\n",
              "      <td>217</td>\n",
              "      <td>nice room experience hotel monaco seattle good...</td>\n",
              "      <td>0.294420</td>\n",
              "      <td>['nice', 'room', 'experience', 'hotel', 'monac...</td>\n",
              "      <td>[ 0.12907822 -0.4086012   0.00375678  0.077708...</td>\n",
              "    </tr>\n",
              "    <tr>\n",
              "      <th>3</th>\n",
              "      <td>unique, great stay, wonderful time hotel monac...</td>\n",
              "      <td>5</td>\n",
              "      <td>600</td>\n",
              "      <td>89</td>\n",
              "      <td>unique great stay wonderful time hotel monaco ...</td>\n",
              "      <td>0.504825</td>\n",
              "      <td>['unique', 'great', 'stay', 'wonderful', 'time...</td>\n",
              "      <td>[ 0.14176802 -0.31248108  0.11944489  0.082050...</td>\n",
              "    </tr>\n",
              "    <tr>\n",
              "      <th>4</th>\n",
              "      <td>great stay great stay, went seahawk game aweso...</td>\n",
              "      <td>5</td>\n",
              "      <td>1281</td>\n",
              "      <td>191</td>\n",
              "      <td>great stay great stay went seahawk game awesom...</td>\n",
              "      <td>0.469643</td>\n",
              "      <td>['great', 'stay', 'great', 'stay', 'went', 'se...</td>\n",
              "      <td>[-0.13615511 -0.08891882 -0.0077215   0.260447...</td>\n",
              "    </tr>\n",
              "  </tbody>\n",
              "</table>\n",
              "</div>\n",
              "    <div class=\"colab-df-buttons\">\n",
              "\n",
              "  <div class=\"colab-df-container\">\n",
              "    <button class=\"colab-df-convert\" onclick=\"convertToInteractive('df-8ce572d4-cb02-478a-a1fd-6094208b5ba8')\"\n",
              "            title=\"Convert this dataframe to an interactive table.\"\n",
              "            style=\"display:none;\">\n",
              "\n",
              "  <svg xmlns=\"http://www.w3.org/2000/svg\" height=\"24px\" viewBox=\"0 -960 960 960\">\n",
              "    <path d=\"M120-120v-720h720v720H120Zm60-500h600v-160H180v160Zm220 220h160v-160H400v160Zm0 220h160v-160H400v160ZM180-400h160v-160H180v160Zm440 0h160v-160H620v160ZM180-180h160v-160H180v160Zm440 0h160v-160H620v160Z\"/>\n",
              "  </svg>\n",
              "    </button>\n",
              "\n",
              "  <style>\n",
              "    .colab-df-container {\n",
              "      display:flex;\n",
              "      gap: 12px;\n",
              "    }\n",
              "\n",
              "    .colab-df-convert {\n",
              "      background-color: #E8F0FE;\n",
              "      border: none;\n",
              "      border-radius: 50%;\n",
              "      cursor: pointer;\n",
              "      display: none;\n",
              "      fill: #1967D2;\n",
              "      height: 32px;\n",
              "      padding: 0 0 0 0;\n",
              "      width: 32px;\n",
              "    }\n",
              "\n",
              "    .colab-df-convert:hover {\n",
              "      background-color: #E2EBFA;\n",
              "      box-shadow: 0px 1px 2px rgba(60, 64, 67, 0.3), 0px 1px 3px 1px rgba(60, 64, 67, 0.15);\n",
              "      fill: #174EA6;\n",
              "    }\n",
              "\n",
              "    .colab-df-buttons div {\n",
              "      margin-bottom: 4px;\n",
              "    }\n",
              "\n",
              "    [theme=dark] .colab-df-convert {\n",
              "      background-color: #3B4455;\n",
              "      fill: #D2E3FC;\n",
              "    }\n",
              "\n",
              "    [theme=dark] .colab-df-convert:hover {\n",
              "      background-color: #434B5C;\n",
              "      box-shadow: 0px 1px 3px 1px rgba(0, 0, 0, 0.15);\n",
              "      filter: drop-shadow(0px 1px 2px rgba(0, 0, 0, 0.3));\n",
              "      fill: #FFFFFF;\n",
              "    }\n",
              "  </style>\n",
              "\n",
              "    <script>\n",
              "      const buttonEl =\n",
              "        document.querySelector('#df-8ce572d4-cb02-478a-a1fd-6094208b5ba8 button.colab-df-convert');\n",
              "      buttonEl.style.display =\n",
              "        google.colab.kernel.accessAllowed ? 'block' : 'none';\n",
              "\n",
              "      async function convertToInteractive(key) {\n",
              "        const element = document.querySelector('#df-8ce572d4-cb02-478a-a1fd-6094208b5ba8');\n",
              "        const dataTable =\n",
              "          await google.colab.kernel.invokeFunction('convertToInteractive',\n",
              "                                                    [key], {});\n",
              "        if (!dataTable) return;\n",
              "\n",
              "        const docLinkHtml = 'Like what you see? Visit the ' +\n",
              "          '<a target=\"_blank\" href=https://colab.research.google.com/notebooks/data_table.ipynb>data table notebook</a>'\n",
              "          + ' to learn more about interactive tables.';\n",
              "        element.innerHTML = '';\n",
              "        dataTable['output_type'] = 'display_data';\n",
              "        await google.colab.output.renderOutput(dataTable, element);\n",
              "        const docLink = document.createElement('div');\n",
              "        docLink.innerHTML = docLinkHtml;\n",
              "        element.appendChild(docLink);\n",
              "      }\n",
              "    </script>\n",
              "  </div>\n",
              "\n",
              "\n",
              "<div id=\"df-00ea5643-5884-46ae-b150-5723d0115cca\">\n",
              "  <button class=\"colab-df-quickchart\" onclick=\"quickchart('df-00ea5643-5884-46ae-b150-5723d0115cca')\"\n",
              "            title=\"Suggest charts\"\n",
              "            style=\"display:none;\">\n",
              "\n",
              "<svg xmlns=\"http://www.w3.org/2000/svg\" height=\"24px\"viewBox=\"0 0 24 24\"\n",
              "     width=\"24px\">\n",
              "    <g>\n",
              "        <path d=\"M19 3H5c-1.1 0-2 .9-2 2v14c0 1.1.9 2 2 2h14c1.1 0 2-.9 2-2V5c0-1.1-.9-2-2-2zM9 17H7v-7h2v7zm4 0h-2V7h2v10zm4 0h-2v-4h2v4z\"/>\n",
              "    </g>\n",
              "</svg>\n",
              "  </button>\n",
              "\n",
              "<style>\n",
              "  .colab-df-quickchart {\n",
              "      --bg-color: #E8F0FE;\n",
              "      --fill-color: #1967D2;\n",
              "      --hover-bg-color: #E2EBFA;\n",
              "      --hover-fill-color: #174EA6;\n",
              "      --disabled-fill-color: #AAA;\n",
              "      --disabled-bg-color: #DDD;\n",
              "  }\n",
              "\n",
              "  [theme=dark] .colab-df-quickchart {\n",
              "      --bg-color: #3B4455;\n",
              "      --fill-color: #D2E3FC;\n",
              "      --hover-bg-color: #434B5C;\n",
              "      --hover-fill-color: #FFFFFF;\n",
              "      --disabled-bg-color: #3B4455;\n",
              "      --disabled-fill-color: #666;\n",
              "  }\n",
              "\n",
              "  .colab-df-quickchart {\n",
              "    background-color: var(--bg-color);\n",
              "    border: none;\n",
              "    border-radius: 50%;\n",
              "    cursor: pointer;\n",
              "    display: none;\n",
              "    fill: var(--fill-color);\n",
              "    height: 32px;\n",
              "    padding: 0;\n",
              "    width: 32px;\n",
              "  }\n",
              "\n",
              "  .colab-df-quickchart:hover {\n",
              "    background-color: var(--hover-bg-color);\n",
              "    box-shadow: 0 1px 2px rgba(60, 64, 67, 0.3), 0 1px 3px 1px rgba(60, 64, 67, 0.15);\n",
              "    fill: var(--button-hover-fill-color);\n",
              "  }\n",
              "\n",
              "  .colab-df-quickchart-complete:disabled,\n",
              "  .colab-df-quickchart-complete:disabled:hover {\n",
              "    background-color: var(--disabled-bg-color);\n",
              "    fill: var(--disabled-fill-color);\n",
              "    box-shadow: none;\n",
              "  }\n",
              "\n",
              "  .colab-df-spinner {\n",
              "    border: 2px solid var(--fill-color);\n",
              "    border-color: transparent;\n",
              "    border-bottom-color: var(--fill-color);\n",
              "    animation:\n",
              "      spin 1s steps(1) infinite;\n",
              "  }\n",
              "\n",
              "  @keyframes spin {\n",
              "    0% {\n",
              "      border-color: transparent;\n",
              "      border-bottom-color: var(--fill-color);\n",
              "      border-left-color: var(--fill-color);\n",
              "    }\n",
              "    20% {\n",
              "      border-color: transparent;\n",
              "      border-left-color: var(--fill-color);\n",
              "      border-top-color: var(--fill-color);\n",
              "    }\n",
              "    30% {\n",
              "      border-color: transparent;\n",
              "      border-left-color: var(--fill-color);\n",
              "      border-top-color: var(--fill-color);\n",
              "      border-right-color: var(--fill-color);\n",
              "    }\n",
              "    40% {\n",
              "      border-color: transparent;\n",
              "      border-right-color: var(--fill-color);\n",
              "      border-top-color: var(--fill-color);\n",
              "    }\n",
              "    60% {\n",
              "      border-color: transparent;\n",
              "      border-right-color: var(--fill-color);\n",
              "    }\n",
              "    80% {\n",
              "      border-color: transparent;\n",
              "      border-right-color: var(--fill-color);\n",
              "      border-bottom-color: var(--fill-color);\n",
              "    }\n",
              "    90% {\n",
              "      border-color: transparent;\n",
              "      border-bottom-color: var(--fill-color);\n",
              "    }\n",
              "  }\n",
              "</style>\n",
              "\n",
              "  <script>\n",
              "    async function quickchart(key) {\n",
              "      const quickchartButtonEl =\n",
              "        document.querySelector('#' + key + ' button');\n",
              "      quickchartButtonEl.disabled = true;  // To prevent multiple clicks.\n",
              "      quickchartButtonEl.classList.add('colab-df-spinner');\n",
              "      try {\n",
              "        const charts = await google.colab.kernel.invokeFunction(\n",
              "            'suggestCharts', [key], {});\n",
              "      } catch (error) {\n",
              "        console.error('Error during call to suggestCharts:', error);\n",
              "      }\n",
              "      quickchartButtonEl.classList.remove('colab-df-spinner');\n",
              "      quickchartButtonEl.classList.add('colab-df-quickchart-complete');\n",
              "    }\n",
              "    (() => {\n",
              "      let quickchartButtonEl =\n",
              "        document.querySelector('#df-00ea5643-5884-46ae-b150-5723d0115cca button');\n",
              "      quickchartButtonEl.style.display =\n",
              "        google.colab.kernel.accessAllowed ? 'block' : 'none';\n",
              "    })();\n",
              "  </script>\n",
              "</div>\n",
              "\n",
              "    </div>\n",
              "  </div>\n"
            ],
            "application/vnd.google.colaboratory.intrinsic+json": {
              "type": "dataframe",
              "variable_name": "data",
              "summary": "{\n  \"name\": \"data\",\n  \"rows\": 20491,\n  \"fields\": [\n    {\n      \"column\": \"Review\",\n      \"properties\": {\n        \"dtype\": \"string\",\n        \"num_unique_values\": 20491,\n        \"samples\": [\n          \"not recommend hotel did reviewers actually stay hotel did, good thing hotel location really close leidseplein, shared facilities filthy got, did not look toilet floor cleaned month, facilities not cleaned 3 days got, disgusting, staff rude complained left night early refused refund night, not recommend hotel,  \",\n          \"barcelona rocks, stayed hotel jazz girlfriend 3 nights end august.the hotel excellent location carrer pelai, close placa catalunya ramblas appreciate buzz city removed respite mayhem crowds, caught airport bus barcelona costs 7 euros person return trip, hotel located 2 mins walk maximum placa universitat stop 2nd route, hotel modern clean, air conditioning room superb balcony looking street outside, room good size, bathroom fine scrimp bit toiletries, bring shower gels unless consider washing unnecessary luxury travels.the downside hotel possibly strengths depending viewpoint, hotel superbly situated 2 different metro stations extremely handy need city sights, downside feel rumbling trains hotel 3rd floor located, worse incessant sound taxi horns hotel mela times square nyc ca n't say disturbed consideration light sleepers irritation, couple shops hotel useful snacks drinks want avoid minibar prices, pool roof tiny n't recommend booking pretty nice place kill time particularly check day just wanted sit chill, n't expect able sit night, shuts fairly early.the hotel excellent 3 star property suggest prices pretty 4 star level, aside hotel tourist bus stopped directly opposite room recommend good way getting overview timer city want possible different areas, think used barcelona tours continuous loop alternative bus turistic 3 different loops involves changing bus round different areas.see gaudi, no fan architecture means, parc guell worth visit nice day n't mind walking uphill, sagrada familia outstanding, couple boat tours port harbour, personally bit underwhelming, save time money things.the nou camp tour worth visit no fan football, stadium amazing history club fascinating, plans redevelopment spectacle completed.ignore negative websites sprung make barcelona akin early days wild west, n't, just sensible major city, read ludicrous claims mark target muggers/pickpockets wore shorts/looked map/did n't speak spanish, rubbish, area ramblas felt safe, couple areas lower end raval little seedy late night just n't stupid fine, worst crime encountered charged 10 euros 2 heinekens irish bar just ramblas heard no-one eats restaurants 9 suffer lack atmosphere did, did n't appear strictly true concede 3 nights, tell restaurants open 8-8.30pm worth getting avoid queues, saturday night arrived restaurant 8.30 offered seat terrace opting window seat overlooking ramblas, 9 turning people away, 9.45 taken pick tables, burst activity 9 n't bad.enjoy,  \",\n          \"ok hotel good location stayed night way beijing rawa island, hotel service room ok. location great shopping restaurants, probably stay, opinion nice 3 star hotel,  \"\n        ],\n        \"semantic_type\": \"\",\n        \"description\": \"\"\n      }\n    },\n    {\n      \"column\": \"Rating\",\n      \"properties\": {\n        \"dtype\": \"number\",\n        \"std\": 1,\n        \"min\": 1,\n        \"max\": 5,\n        \"num_unique_values\": 5,\n        \"samples\": [\n          2,\n          1,\n          3\n        ],\n        \"semantic_type\": \"\",\n        \"description\": \"\"\n      }\n    },\n    {\n      \"column\": \"Length\",\n      \"properties\": {\n        \"dtype\": \"number\",\n        \"std\": 689,\n        \"min\": 44,\n        \"max\": 13501,\n        \"num_unique_values\": 2543,\n        \"samples\": [\n          1309,\n          686,\n          477\n        ],\n        \"semantic_type\": \"\",\n        \"description\": \"\"\n      }\n    },\n    {\n      \"column\": \"Word_count\",\n      \"properties\": {\n        \"dtype\": \"number\",\n        \"std\": 100,\n        \"min\": 7,\n        \"max\": 1931,\n        \"num_unique_values\": 636,\n        \"samples\": [\n          258,\n          876,\n          51\n        ],\n        \"semantic_type\": \"\",\n        \"description\": \"\"\n      }\n    },\n    {\n      \"column\": \"cleaned_review\",\n      \"properties\": {\n        \"dtype\": \"string\",\n        \"num_unique_values\": 20491,\n        \"samples\": [\n          \"recommend hotel reviewer actually stay hotel good thing hotel location really close leidseplein shared facility filthy got look toilet floor cleaned month facility cleaned day got disgusting staff rude complained left night early refused refund night recommend hotel\",\n          \"barcelona rock stayed hotel jazz girlfriend night end augustthe hotel excellent location carrer pelai close placa catalunya ramblas appreciate buzz city removed respite mayhem crowd caught airport bus barcelona cost euro person return trip hotel located min walk maximum placa universitat stop nd route hotel modern clean air conditioning room superb balcony looking street outside room good size bathroom fine scrimp bit toiletry bring shower gel unless consider washing unnecessary luxury travelsthe downside hotel possibly strength depending viewpoint hotel superbly situated different metro station extremely handy need city sight downside feel rumbling train hotel rd floor located worse incessant sound taxi horn hotel mela time square nyc ca nt say disturbed consideration light sleeper irritation couple shop hotel useful snack drink want avoid minibar price pool roof tiny nt recommend booking pretty nice place kill time particularly check day wanted sit chill nt expect able sit night shuts fairly earlythe hotel excellent star property suggest price pretty star level aside hotel tourist bus stopped directly opposite room recommend good way getting overview timer city want possible different area think used barcelona tour continuous loop alternative bus turistic different loop involves changing bus round different areassee gaudi fan architecture mean parc guell worth visit nice day nt mind walking uphill sagrada familia outstanding couple boat tour port harbour personally bit underwhelming save time money thingsthe nou camp tour worth visit fan football stadium amazing history club fascinating plan redevelopment spectacle completedignore negative website sprung make barcelona akin early day wild west nt sensible major city read ludicrous claim mark target muggerspickpockets wore shortslooked mapdid nt speak spanish rubbish area ramblas felt safe couple area lower end raval little seedy late night nt stupid fine worst crime encountered charged euro heinekens irish bar ramblas heard noone eats restaurant suffer lack atmosphere nt appear strictly true concede night tell restaurant open pm worth getting avoid queue saturday night arrived restaurant offered seat terrace opting window seat overlooking ramblas turning people away taken pick table burst activity nt badenjoy\",\n          \"ok hotel good location stayed night way beijing rawa island hotel service room ok location great shopping restaurant probably stay opinion nice star hotel\"\n        ],\n        \"semantic_type\": \"\",\n        \"description\": \"\"\n      }\n    },\n    {\n      \"column\": \"sentiment\",\n      \"properties\": {\n        \"dtype\": \"number\",\n        \"std\": 0.17652966964070654,\n        \"min\": -1.0,\n        \"max\": 1.0,\n        \"num_unique_values\": 16561,\n        \"samples\": [\n          -0.0102240896358543,\n          0.2861111111111111,\n          0.3454545454545454\n        ],\n        \"semantic_type\": \"\",\n        \"description\": \"\"\n      }\n    },\n    {\n      \"column\": \"tokenized_review\",\n      \"properties\": {\n        \"dtype\": \"string\",\n        \"num_unique_values\": 20491,\n        \"samples\": [\n          \"['recommend', 'hotel', 'reviewer', 'actually', 'stay', 'hotel', 'good', 'thing', 'hotel', 'location', 'really', 'close', 'leidseplein', 'shared', 'facility', 'filthy', 'got', 'look', 'toilet', 'floor', 'cleaned', 'month', 'facility', 'cleaned', 'day', 'got', 'disgusting', 'staff', 'rude', 'complained', 'left', 'night', 'early', 'refused', 'refund', 'night', 'recommend', 'hotel']\",\n          \"['barcelona', 'rock', 'stayed', 'hotel', 'jazz', 'girlfriend', 'night', 'end', 'augustthe', 'hotel', 'excellent', 'location', 'carrer', 'pelai', 'close', 'placa', 'catalunya', 'ramblas', 'appreciate', 'buzz', 'city', 'removed', 'respite', 'mayhem', 'crowd', 'caught', 'airport', 'bus', 'barcelona', 'cost', 'euro', 'person', 'return', 'trip', 'hotel', 'located', 'min', 'walk', 'maximum', 'placa', 'universitat', 'stop', 'nd', 'route', 'hotel', 'modern', 'clean', 'air', 'conditioning', 'room', 'superb', 'balcony', 'looking', 'street', 'outside', 'room', 'good', 'size', 'bathroom', 'fine', 'scrimp', 'bit', 'toiletry', 'bring', 'shower', 'gel', 'unless', 'consider', 'washing', 'unnecessary', 'luxury', 'travelsthe', 'downside', 'hotel', 'possibly', 'strength', 'depending', 'viewpoint', 'hotel', 'superbly', 'situated', 'different', 'metro', 'station', 'extremely', 'handy', 'need', 'city', 'sight', 'downside', 'feel', 'rumbling', 'train', 'hotel', 'rd', 'floor', 'located', 'worse', 'incessant', 'sound', 'taxi', 'horn', 'hotel', 'mela', 'time', 'square', 'nyc', 'ca', 'nt', 'say', 'disturbed', 'consideration', 'light', 'sleeper', 'irritation', 'couple', 'shop', 'hotel', 'useful', 'snack', 'drink', 'want', 'avoid', 'minibar', 'price', 'pool', 'roof', 'tiny', 'nt', 'recommend', 'booking', 'pretty', 'nice', 'place', 'kill', 'time', 'particularly', 'check', 'day', 'wanted', 'sit', 'chill', 'nt', 'expect', 'able', 'sit', 'night', 'shuts', 'fairly', 'earlythe', 'hotel', 'excellent', 'star', 'property', 'suggest', 'price', 'pretty', 'star', 'level', 'aside', 'hotel', 'tourist', 'bus', 'stopped', 'directly', 'opposite', 'room', 'recommend', 'good', 'way', 'getting', 'overview', 'timer', 'city', 'want', 'possible', 'different', 'area', 'think', 'used', 'barcelona', 'tour', 'continuous', 'loop', 'alternative', 'bus', 'turistic', 'different', 'loop', 'involves', 'changing', 'bus', 'round', 'different', 'areassee', 'gaudi', 'fan', 'architecture', 'mean', 'parc', 'guell', 'worth', 'visit', 'nice', 'day', 'nt', 'mind', 'walking', 'uphill', 'sagrada', 'familia', 'outstanding', 'couple', 'boat', 'tour', 'port', 'harbour', 'personally', 'bit', 'underwhelming', 'save', 'time', 'money', 'thingsthe', 'nou', 'camp', 'tour', 'worth', 'visit', 'fan', 'football', 'stadium', 'amazing', 'history', 'club', 'fascinating', 'plan', 'redevelopment', 'spectacle', 'completedignore', 'negative', 'website', 'sprung', 'make', 'barcelona', 'akin', 'early', 'day', 'wild', 'west', 'nt', 'sensible', 'major', 'city', 'read', 'ludicrous', 'claim', 'mark', 'target', 'muggerspickpockets', 'wore', 'shortslooked', 'mapdid', 'nt', 'speak', 'spanish', 'rubbish', 'area', 'ramblas', 'felt', 'safe', 'couple', 'area', 'lower', 'end', 'raval', 'little', 'seedy', 'late', 'night', 'nt', 'stupid', 'fine', 'worst', 'crime', 'encountered', 'charged', 'euro', 'heinekens', 'irish', 'bar', 'ramblas', 'heard', 'noone', 'eats', 'restaurant', 'suffer', 'lack', 'atmosphere', 'nt', 'appear', 'strictly', 'true', 'concede', 'night', 'tell', 'restaurant', 'open', 'pm', 'worth', 'getting', 'avoid', 'queue', 'saturday', 'night', 'arrived', 'restaurant', 'offered', 'seat', 'terrace', 'opting', 'window', 'seat', 'overlooking', 'ramblas', 'turning', 'people', 'away', 'taken', 'pick', 'table', 'burst', 'activity', 'nt', 'badenjoy']\",\n          \"['ok', 'hotel', 'good', 'location', 'stayed', 'night', 'way', 'beijing', 'rawa', 'island', 'hotel', 'service', 'room', 'ok', 'location', 'great', 'shopping', 'restaurant', 'probably', 'stay', 'opinion', 'nice', 'star', 'hotel']\"\n        ],\n        \"semantic_type\": \"\",\n        \"description\": \"\"\n      }\n    },\n    {\n      \"column\": \"review_vector\",\n      \"properties\": {\n        \"dtype\": \"string\",\n        \"num_unique_values\": 20491,\n        \"samples\": [\n          \"[ 0.07150909 -0.3385102   0.01537443  0.38173    -0.0688009  -0.22006243\\n  0.37657693  0.6226592  -0.66843855  0.24510501  0.49726126  0.03540722\\n  0.5994585   0.5504532   0.07216407  0.21393302 -0.07117552 -0.06212528\\n -0.55501384 -0.16821241  0.07479534 -0.7870575   0.84461284 -0.12854469\\n  0.29849067 -0.14880237 -0.30905843  0.24610926 -0.4371254   0.2393604\\n  0.12304961 -0.5135581   0.26836368 -0.3439697  -0.37501076  0.3742855\\n  0.13750787  0.16499998  0.11306291 -0.06242322  0.10231916 -0.061639\\n -0.84945697 -0.24399993  0.27126995  0.24082477 -0.37298355  0.14940412\\n  0.15970084  0.26396197 -0.39062476  0.20351648 -0.0201578  -0.5212208\\n  0.46024162 -0.06278533 -0.42760774 -0.11205974 -0.15945382  0.6267034\\n  0.4125655  -0.10447571  0.21603715 -0.42793706 -0.47013292  0.37115973\\n  0.5971479   0.14229399 -0.27283683  0.01883589  0.09922788 -0.26677492\\n  0.18254593  0.29833102  0.3297038   0.14730813 -0.13103211 -0.3386792\\n -0.22703168  0.02644467  0.1495453  -0.14634353 -0.2311613   0.64204836\\n -0.22377323  0.04609439  0.57978964  0.45241776  0.24465649 -0.18525358\\n  0.13571338 -0.1976089   0.61012125 -0.7215727   0.6219595   0.20589556\\n  0.4274069  -0.30830634  0.83228415 -0.68423766]\",\n          \"[ 0.0812447  -0.21523227  0.2871199   0.30947945  0.15552647 -0.3596958\\n  0.19689038  0.23575774 -0.4110099   0.22331935  0.4368947  -0.47319198\\n  0.4855802   0.08052034  0.1867221   0.0872265   0.28006664 -0.24952433\\n -0.44153944 -0.42069584  0.03338508 -0.2675388   0.33948067 -0.3574175\\n -0.1916382  -0.1878261  -0.4025624   0.15228602 -0.45230848  0.46782252\\n -0.07149544  0.00602792  0.149525   -0.17201145  0.05525438  0.12522155\\n  0.04893096 -0.29239666  0.22939627 -0.09007727  0.22403036 -0.43927616\\n -0.2506375   0.07742692  0.7305793   0.32719395 -0.11760593 -0.05864212\\n  0.19090192  0.42600557 -0.03221847  0.06725506  0.03067742 -0.2826777\\n  0.17554697 -0.10687602 -0.3246575  -0.09660468 -0.04685387  0.39008647\\n  0.30713847  0.00469641  0.20372017 -0.08092239 -0.07065471  0.2417253\\n  0.33033755 -0.02030695 -0.12746985  0.24324591  0.00840444 -0.10562418\\n  0.15973563  0.15396881  0.48998925  0.13438345 -0.00587306 -0.31107444\\n  0.1279875   0.13481474  0.2559493  -0.10761134 -0.33784103  0.4133023\\n -0.29871777 -0.07480338 -0.10648646  0.1956799   0.2510367  -0.33083072\\n  0.19411182 -0.07047404  0.47744703 -0.3850549   0.6476311   0.34634432\\n  0.1705766  -0.25174946  0.17319193 -0.43619695]\",\n          \"[ 0.29594845 -0.00165305  0.51923984  0.82211286  0.02557751 -0.15691043\\n -0.0311317   0.36227456 -0.7435226   0.11188126  0.6457019  -0.6049951\\n  0.51116884  0.10407424  0.3298639  -0.06017685  0.2968026  -0.03687999\\n -0.5741379  -0.2986746  -0.5677792  -0.93885154  0.71687865 -0.49619803\\n  0.04126966  0.01582827 -0.44277257  0.49327412 -0.8939377   0.6148737\\n -0.56926626 -0.26834363  0.13868146 -0.43733406 -0.20414276 -0.3381459\\n -0.23829344  0.17246369  0.66462904 -0.3559766  -0.19105692 -0.37289143\\n -0.5183406  -0.03118582  1.1156882   0.31212667 -0.10659374  0.00994986\\n  0.34915566  0.54183763 -0.3360828   0.43819618  0.21731818 -0.62154496\\n  0.49405238 -0.6180946  -0.6623186  -0.53481853  0.31090686  0.54269695\\n  0.38042936 -0.19762266  0.37697408 -0.34603018 -0.07265155  0.7693562\\n  0.59960365  0.36405733 -0.06464703  0.08980563  0.09285115  0.6546795\\n  0.10220505  0.19476488  1.2696646   0.78131396  0.08598473  0.34622937\\n  0.36978698 -0.46797702  0.5722182  -0.7806594  -0.07337964  0.6222299\\n -0.65039414 -0.31552106  0.51423883 -0.18294469  0.24096794 -0.11227345\\n  0.35660562 -0.09607731  0.40326118 -0.8351211   1.1934344   0.22996792\\n  0.67084265 -0.19428147  0.49252456 -0.7411029 ]\"\n        ],\n        \"semantic_type\": \"\",\n        \"description\": \"\"\n      }\n    }\n  ]\n}"
            }
          },
          "metadata": {},
          "execution_count": 5
        }
      ]
    },
    {
      "cell_type": "code",
      "source": [
        "data['sentiment'] = data['Rating'].apply(lambda x: 1 if x > 3 else 2 if x == 3 else 0)\n",
        "\n",
        "def convert_to_float_array(s):\n",
        "    # Bỏ dấu ngoặc rồi tách theo khoảng trắng\n",
        "    s = s.strip('[]').split()\n",
        "    # Chuyển từng phần tử trong danh sách thành float\n",
        "    return [float(x) for x in s]\n",
        "\n",
        "\n",
        "data['review_vector'] = data['review_vector'].apply(convert_to_float_array)\n",
        "# Prepare data\n",
        "X = np.array(data['review_vector'].tolist())\n",
        "y = data['sentiment']"
      ],
      "metadata": {
        "colab": {
          "base_uri": "https://localhost:8080/",
          "height": 225
        },
        "id": "TJ__MSAHbFVm",
        "outputId": "2b277cfb-d35e-44db-e6f6-b06b2d16a7e2"
      },
      "execution_count": 1,
      "outputs": [
        {
          "output_type": "error",
          "ename": "NameError",
          "evalue": "name 'data' is not defined",
          "traceback": [
            "\u001b[0;31m---------------------------------------------------------------------------\u001b[0m",
            "\u001b[0;31mNameError\u001b[0m                                 Traceback (most recent call last)",
            "\u001b[0;32m<ipython-input-1-7b944dc78c46>\u001b[0m in \u001b[0;36m<cell line: 1>\u001b[0;34m()\u001b[0m\n\u001b[0;32m----> 1\u001b[0;31m \u001b[0mdata\u001b[0m\u001b[0;34m[\u001b[0m\u001b[0;34m'sentiment'\u001b[0m\u001b[0;34m]\u001b[0m \u001b[0;34m=\u001b[0m \u001b[0mdata\u001b[0m\u001b[0;34m[\u001b[0m\u001b[0;34m'Rating'\u001b[0m\u001b[0;34m]\u001b[0m\u001b[0;34m.\u001b[0m\u001b[0mapply\u001b[0m\u001b[0;34m(\u001b[0m\u001b[0;32mlambda\u001b[0m \u001b[0mx\u001b[0m\u001b[0;34m:\u001b[0m \u001b[0;36m1\u001b[0m \u001b[0;32mif\u001b[0m \u001b[0mx\u001b[0m \u001b[0;34m>\u001b[0m \u001b[0;36m3\u001b[0m \u001b[0;32melse\u001b[0m \u001b[0;36m2\u001b[0m \u001b[0;32mif\u001b[0m \u001b[0mx\u001b[0m \u001b[0;34m==\u001b[0m \u001b[0;36m3\u001b[0m \u001b[0;32melse\u001b[0m \u001b[0;36m0\u001b[0m\u001b[0;34m)\u001b[0m\u001b[0;34m\u001b[0m\u001b[0;34m\u001b[0m\u001b[0m\n\u001b[0m\u001b[1;32m      2\u001b[0m \u001b[0;34m\u001b[0m\u001b[0m\n\u001b[1;32m      3\u001b[0m \u001b[0;32mdef\u001b[0m \u001b[0mconvert_to_float_array\u001b[0m\u001b[0;34m(\u001b[0m\u001b[0ms\u001b[0m\u001b[0;34m)\u001b[0m\u001b[0;34m:\u001b[0m\u001b[0;34m\u001b[0m\u001b[0;34m\u001b[0m\u001b[0m\n\u001b[1;32m      4\u001b[0m     \u001b[0;31m# Bỏ dấu ngoặc rồi tách theo khoảng trắng\u001b[0m\u001b[0;34m\u001b[0m\u001b[0;34m\u001b[0m\u001b[0m\n\u001b[1;32m      5\u001b[0m     \u001b[0ms\u001b[0m \u001b[0;34m=\u001b[0m \u001b[0ms\u001b[0m\u001b[0;34m.\u001b[0m\u001b[0mstrip\u001b[0m\u001b[0;34m(\u001b[0m\u001b[0;34m'[]'\u001b[0m\u001b[0;34m)\u001b[0m\u001b[0;34m.\u001b[0m\u001b[0msplit\u001b[0m\u001b[0;34m(\u001b[0m\u001b[0;34m)\u001b[0m\u001b[0;34m\u001b[0m\u001b[0;34m\u001b[0m\u001b[0m\n",
            "\u001b[0;31mNameError\u001b[0m: name 'data' is not defined"
          ]
        }
      ]
    },
    {
      "cell_type": "code",
      "source": [
        "from sklearn.model_selection import KFold\n",
        "\n",
        "# Initialize 10-Fold Cross-Validation\n",
        "kf = KFold(n_splits=10, shuffle=True, random_state=42)\n",
        "\n",
        "# Save the indices of each fold for reuse\n",
        "fold_indices = [(train_idx, test_idx) for train_idx, test_idx in kf.split(X)]"
      ],
      "metadata": {
        "id": "nlTVRoE-aoag"
      },
      "execution_count": 7,
      "outputs": []
    },
    {
      "cell_type": "code",
      "source": [
        "from tensorflow.keras.models import Sequential\n",
        "from tensorflow.keras.layers import Dense\n",
        "from tensorflow.keras.utils import to_categorical\n",
        "from sklearn.metrics import accuracy_score, f1_score, precision_score, recall_score\n",
        "import time\n",
        "\n",
        "# Hàm tạo mô hình MLP\n",
        "def create_mlp():\n",
        "    model = Sequential()\n",
        "    model.add(Dense(64, input_dim=100, activation='relu'))  # Lớp ẩn đầu tiên với 64 node và hàm kích hoạt ReLU\n",
        "    model.add(Dense(64, activation='relu'))  # Lớp ẩn thứ hai với 64 node và hàm kích hoạt ReLU\n",
        "    model.add(Dense(3, activation='softmax'))  # Lớp đầu ra với 3 node (tương ứng 3 lớp), hàm softmax cho phân loại\n",
        "    model.compile(loss='categorical_crossentropy', optimizer='adam', metrics=['accuracy'])  # Compile mô hình\n",
        "    return model"
      ],
      "metadata": {
        "id": "auIaCo7nbs8e"
      },
      "execution_count": 17,
      "outputs": []
    },
    {
      "cell_type": "code",
      "source": [
        "import tensorflow as tf\n",
        "\n",
        "if tf.config.list_physical_devices('GPU'):\n",
        "    print(\"GPU is available.\")\n",
        "    gpu_name = tf.config.list_physical_devices('GPU')[0]\n",
        "    print(\"GPU in use:\", gpu_name)\n",
        "else:\n",
        "    print(\"GPU is not available.\")\n"
      ],
      "metadata": {
        "colab": {
          "base_uri": "https://localhost:8080/"
        },
        "id": "NvDu9__Od-Wh",
        "outputId": "fb24a42b-8a7b-4c3e-8f5a-0d71081c5a7e"
      },
      "execution_count": 1,
      "outputs": [
        {
          "output_type": "stream",
          "name": "stdout",
          "text": [
            "GPU is available.\n",
            "GPU in use: PhysicalDevice(name='/physical_device:GPU:0', device_type='GPU')\n"
          ]
        }
      ]
    },
    {
      "cell_type": "code",
      "source": [
        "from tensorflow.keras.callbacks import EarlyStopping, ModelCheckpoint\n",
        "\n",
        "# Define EarlyStopping callback to stop training if no improvement after 'patience' epochs\n",
        "early_stopping = EarlyStopping(\n",
        "    monitor='val_loss',  # Monitor validation loss\n",
        "    patience=30,          # Number of epochs with no improvement to stop training\n",
        "    restore_best_weights=True  # Restore the best weights at the end of training\n",
        ")\n",
        "\n",
        "# Store results for each fold\n",
        "results = []\n",
        "\n",
        "for fold_idx, (train_idx, test_idx) in enumerate(kf.split(X, y), start=1):\n",
        "    print(f\"\\nRunning Fold {fold_idx}...\")\n",
        "\n",
        "    # Split data into train and test sets for this fold\n",
        "    X_train, X_test = X[train_idx], X[test_idx]\n",
        "    y_train, y_test = y[train_idx], y[test_idx]\n",
        "\n",
        "    # Convert labels to categorical (for multi-class classification)\n",
        "    y_train_cat = to_categorical(y_train, num_classes=3)\n",
        "    y_test_cat = to_categorical(y_test, num_classes=3)\n",
        "\n",
        "    # Create a new instance of the MLP model\n",
        "    model = create_mlp()\n",
        "\n",
        "    # Train the model\n",
        "    start_time = time.time()\n",
        "    # Train the model with EarlyStopping\n",
        "    history = model.fit(\n",
        "        X_train, y_train_cat,\n",
        "        epochs=200,  # Maximum number of epochs\n",
        "        batch_size=64,\n",
        "        validation_data=(X_test, y_test_cat),  # Validation data for EarlyStopping monitoring\n",
        "        callbacks=[early_stopping],  # Include the EarlyStopping callback\n",
        "        verbose=0  # Display training progress\n",
        "    )\n",
        "    elapsed_time = time.time() - start_time\n",
        "\n",
        "    # Evaluate on the training set\n",
        "    train_loss, train_accuracy = model.evaluate(X_train, y_train_cat, verbose=0)\n",
        "\n",
        "    # Evaluate on the test set\n",
        "    test_loss, test_accuracy = model.evaluate(X_test, y_test_cat, verbose=0)\n",
        "\n",
        "    # Make predictions for metrics calculation\n",
        "    y_test_pred = np.argmax(model.predict(X_test), axis=1)\n",
        "    y_train_pred = np.argmax(model.predict(X_train), axis=1)\n",
        "\n",
        "    # Calculate metrics\n",
        "    train_f1 = f1_score(y_train, y_train_pred, average='weighted')\n",
        "    train_precision = precision_score(y_train, y_train_pred, average='weighted')\n",
        "    train_recall = recall_score(y_train, y_train_pred, average='weighted')\n",
        "\n",
        "    test_f1 = f1_score(y_test, y_test_pred, average='weighted')\n",
        "    test_precision = precision_score(y_test, y_test_pred, average='weighted')\n",
        "    test_recall = recall_score(y_test, y_test_pred, average='weighted')\n",
        "\n",
        "    # Store results for this fold\n",
        "    results.append({\n",
        "        \"Fold\": fold_idx,\n",
        "        \"Train Accuracy\": train_accuracy,\n",
        "        \"Train F1\": train_f1,\n",
        "        \"Train Precision\": train_precision,\n",
        "        \"Train Recall\": train_recall,\n",
        "        \"Test Accuracy\": test_accuracy,\n",
        "        \"Test F1\": test_f1,\n",
        "        \"Test Precision\": test_precision,\n",
        "        \"Test Recall\": test_recall,\n",
        "        \"Time\": elapsed_time\n",
        "    })\n",
        "\n",
        "    # Print fold results\n",
        "    print(f\"Fold {fold_idx} Results:\")\n",
        "    print(f\"  Train -> Accuracy: {train_accuracy:.4f}, F1: {train_f1:.4f}, \"\n",
        "          f\"Precision: {train_precision:.4f}, Recall: {train_recall:.4f}\")\n",
        "    print(f\"  Test  -> Accuracy: {test_accuracy:.4f}, F1: {test_f1:.4f}, \"\n",
        "          f\"Precision: {test_precision:.4f}, Recall: {test_recall:.4f}\")\n",
        "    print(f\"  Time Taken: {elapsed_time:.2f} seconds\\n\")\n",
        "\n",
        "# Calculate and display averaged metrics across all folds\n",
        "avg_metrics = {\n",
        "    metric: np.mean([result[metric] for result in results])\n",
        "    for metric in [\"Train Accuracy\", \"Train F1\", \"Train Precision\", \"Train Recall\",\n",
        "                   \"Test Accuracy\", \"Test F1\", \"Test Precision\", \"Test Recall\", \"Time\"]\n",
        "}\n",
        "\n",
        "print(\"\\nAveraged Results Across All Folds:\")\n",
        "print(f\"  Train -> Accuracy: {avg_metrics['Train Accuracy']:.4f}, \"\n",
        "      f\"F1: {avg_metrics['Train F1']:.4f}, \"\n",
        "      f\"Precision: {avg_metrics['Train Precision']:.4f}, \"\n",
        "      f\"Recall: {avg_metrics['Train Recall']:.4f}\")\n",
        "print(f\"  Test  -> Accuracy: {avg_metrics['Test Accuracy']:.4f}, \"\n",
        "      f\"F1: {avg_metrics['Test F1']:.4f}, \"\n",
        "      f\"Precision: {avg_metrics['Test Precision']:.4f}, \"\n",
        "      f\"Recall: {avg_metrics['Test Recall']:.4f}\")\n",
        "print(f\"  Average Time Taken per Fold: {avg_metrics['Time']:.2f} seconds\")"
      ],
      "metadata": {
        "colab": {
          "base_uri": "https://localhost:8080/"
        },
        "id": "9a6pBu_8bNIJ",
        "outputId": "f8cf15cd-b6f6-409f-ed32-55b24e8af9c2"
      },
      "execution_count": 22,
      "outputs": [
        {
          "output_type": "stream",
          "name": "stdout",
          "text": [
            "\n",
            "Running Fold 1...\n"
          ]
        },
        {
          "output_type": "stream",
          "name": "stderr",
          "text": [
            "/usr/local/lib/python3.10/dist-packages/keras/src/layers/core/dense.py:87: UserWarning: Do not pass an `input_shape`/`input_dim` argument to a layer. When using Sequential models, prefer using an `Input(shape)` object as the first layer in the model instead.\n",
            "  super().__init__(activity_regularizer=activity_regularizer, **kwargs)\n"
          ]
        },
        {
          "output_type": "stream",
          "name": "stdout",
          "text": [
            "\u001b[1m65/65\u001b[0m \u001b[32m━━━━━━━━━━━━━━━━━━━━\u001b[0m\u001b[37m\u001b[0m \u001b[1m0s\u001b[0m 4ms/step\n",
            "\u001b[1m577/577\u001b[0m \u001b[32m━━━━━━━━━━━━━━━━━━━━\u001b[0m\u001b[37m\u001b[0m \u001b[1m1s\u001b[0m 1ms/step\n",
            "Fold 1 Results:\n",
            "  Train -> Accuracy: 0.8565, F1: 0.8358, Precision: 0.8357, Recall: 0.8565\n",
            "  Test  -> Accuracy: 0.8576, F1: 0.8377, Precision: 0.8377, Recall: 0.8576\n",
            "  Time Taken: 21.92 seconds\n",
            "\n",
            "\n",
            "Running Fold 2...\n"
          ]
        },
        {
          "output_type": "stream",
          "name": "stderr",
          "text": [
            "/usr/local/lib/python3.10/dist-packages/keras/src/layers/core/dense.py:87: UserWarning: Do not pass an `input_shape`/`input_dim` argument to a layer. When using Sequential models, prefer using an `Input(shape)` object as the first layer in the model instead.\n",
            "  super().__init__(activity_regularizer=activity_regularizer, **kwargs)\n"
          ]
        },
        {
          "output_type": "stream",
          "name": "stdout",
          "text": [
            "\u001b[1m65/65\u001b[0m \u001b[32m━━━━━━━━━━━━━━━━━━━━\u001b[0m\u001b[37m\u001b[0m \u001b[1m0s\u001b[0m 3ms/step\n",
            "\u001b[1m577/577\u001b[0m \u001b[32m━━━━━━━━━━━━━━━━━━━━\u001b[0m\u001b[37m\u001b[0m \u001b[1m1s\u001b[0m 1ms/step\n",
            "Fold 2 Results:\n",
            "  Train -> Accuracy: 0.8350, F1: 0.7999, Precision: 0.8031, Recall: 0.8350\n",
            "  Test  -> Accuracy: 0.8336, F1: 0.7983, Precision: 0.7997, Recall: 0.8336\n",
            "  Time Taken: 15.71 seconds\n",
            "\n",
            "\n",
            "Running Fold 3...\n"
          ]
        },
        {
          "output_type": "stream",
          "name": "stderr",
          "text": [
            "/usr/local/lib/python3.10/dist-packages/keras/src/layers/core/dense.py:87: UserWarning: Do not pass an `input_shape`/`input_dim` argument to a layer. When using Sequential models, prefer using an `Input(shape)` object as the first layer in the model instead.\n",
            "  super().__init__(activity_regularizer=activity_regularizer, **kwargs)\n"
          ]
        },
        {
          "output_type": "stream",
          "name": "stdout",
          "text": [
            "\u001b[1m65/65\u001b[0m \u001b[32m━━━━━━━━━━━━━━━━━━━━\u001b[0m\u001b[37m\u001b[0m \u001b[1m0s\u001b[0m 3ms/step\n",
            "\u001b[1m577/577\u001b[0m \u001b[32m━━━━━━━━━━━━━━━━━━━━\u001b[0m\u001b[37m\u001b[0m \u001b[1m1s\u001b[0m 1ms/step\n",
            "Fold 3 Results:\n",
            "  Train -> Accuracy: 0.8358, F1: 0.7969, Precision: 0.8061, Recall: 0.8358\n",
            "  Test  -> Accuracy: 0.8326, F1: 0.7967, Precision: 0.8076, Recall: 0.8326\n",
            "  Time Taken: 15.71 seconds\n",
            "\n",
            "\n",
            "Running Fold 4...\n"
          ]
        },
        {
          "output_type": "stream",
          "name": "stderr",
          "text": [
            "/usr/local/lib/python3.10/dist-packages/keras/src/layers/core/dense.py:87: UserWarning: Do not pass an `input_shape`/`input_dim` argument to a layer. When using Sequential models, prefer using an `Input(shape)` object as the first layer in the model instead.\n",
            "  super().__init__(activity_regularizer=activity_regularizer, **kwargs)\n"
          ]
        },
        {
          "output_type": "stream",
          "name": "stdout",
          "text": [
            "\u001b[1m65/65\u001b[0m \u001b[32m━━━━━━━━━━━━━━━━━━━━\u001b[0m\u001b[37m\u001b[0m \u001b[1m0s\u001b[0m 3ms/step\n",
            "\u001b[1m577/577\u001b[0m \u001b[32m━━━━━━━━━━━━━━━━━━━━\u001b[0m\u001b[37m\u001b[0m \u001b[1m1s\u001b[0m 1ms/step\n",
            "Fold 4 Results:\n",
            "  Train -> Accuracy: 0.8364, F1: 0.7960, Precision: 0.8006, Recall: 0.8364\n",
            "  Test  -> Accuracy: 0.8321, F1: 0.7905, Precision: 0.7783, Recall: 0.8321\n",
            "  Time Taken: 16.16 seconds\n",
            "\n",
            "\n",
            "Running Fold 5...\n"
          ]
        },
        {
          "output_type": "stream",
          "name": "stderr",
          "text": [
            "/usr/local/lib/python3.10/dist-packages/keras/src/layers/core/dense.py:87: UserWarning: Do not pass an `input_shape`/`input_dim` argument to a layer. When using Sequential models, prefer using an `Input(shape)` object as the first layer in the model instead.\n",
            "  super().__init__(activity_regularizer=activity_regularizer, **kwargs)\n"
          ]
        },
        {
          "output_type": "stream",
          "name": "stdout",
          "text": [
            "\u001b[1m65/65\u001b[0m \u001b[32m━━━━━━━━━━━━━━━━━━━━\u001b[0m\u001b[37m\u001b[0m \u001b[1m0s\u001b[0m 3ms/step\n",
            "\u001b[1m577/577\u001b[0m \u001b[32m━━━━━━━━━━━━━━━━━━━━\u001b[0m\u001b[37m\u001b[0m \u001b[1m1s\u001b[0m 1ms/step\n",
            "Fold 5 Results:\n",
            "  Train -> Accuracy: 0.8351, F1: 0.8037, Precision: 0.8019, Recall: 0.8351\n",
            "  Test  -> Accuracy: 0.8224, F1: 0.7853, Precision: 0.7859, Recall: 0.8224\n",
            "  Time Taken: 15.69 seconds\n",
            "\n",
            "\n",
            "Running Fold 6...\n"
          ]
        },
        {
          "output_type": "stream",
          "name": "stderr",
          "text": [
            "/usr/local/lib/python3.10/dist-packages/keras/src/layers/core/dense.py:87: UserWarning: Do not pass an `input_shape`/`input_dim` argument to a layer. When using Sequential models, prefer using an `Input(shape)` object as the first layer in the model instead.\n",
            "  super().__init__(activity_regularizer=activity_regularizer, **kwargs)\n"
          ]
        },
        {
          "output_type": "stream",
          "name": "stdout",
          "text": [
            "\u001b[1m65/65\u001b[0m \u001b[32m━━━━━━━━━━━━━━━━━━━━\u001b[0m\u001b[37m\u001b[0m \u001b[1m0s\u001b[0m 3ms/step\n",
            "\u001b[1m577/577\u001b[0m \u001b[32m━━━━━━━━━━━━━━━━━━━━\u001b[0m\u001b[37m\u001b[0m \u001b[1m1s\u001b[0m 1ms/step\n",
            "Fold 6 Results:\n",
            "  Train -> Accuracy: 0.8333, F1: 0.7918, Precision: 0.7962, Recall: 0.8333\n",
            "  Test  -> Accuracy: 0.8409, F1: 0.7984, Precision: 0.7940, Recall: 0.8409\n",
            "  Time Taken: 15.73 seconds\n",
            "\n",
            "\n",
            "Running Fold 7...\n"
          ]
        },
        {
          "output_type": "stream",
          "name": "stderr",
          "text": [
            "/usr/local/lib/python3.10/dist-packages/keras/src/layers/core/dense.py:87: UserWarning: Do not pass an `input_shape`/`input_dim` argument to a layer. When using Sequential models, prefer using an `Input(shape)` object as the first layer in the model instead.\n",
            "  super().__init__(activity_regularizer=activity_regularizer, **kwargs)\n"
          ]
        },
        {
          "output_type": "stream",
          "name": "stdout",
          "text": [
            "\u001b[1m65/65\u001b[0m \u001b[32m━━━━━━━━━━━━━━━━━━━━\u001b[0m\u001b[37m\u001b[0m \u001b[1m0s\u001b[0m 3ms/step\n",
            "\u001b[1m577/577\u001b[0m \u001b[32m━━━━━━━━━━━━━━━━━━━━\u001b[0m\u001b[37m\u001b[0m \u001b[1m1s\u001b[0m 1ms/step\n",
            "Fold 7 Results:\n",
            "  Train -> Accuracy: 0.8380, F1: 0.8123, Precision: 0.8074, Recall: 0.8380\n",
            "  Test  -> Accuracy: 0.8219, F1: 0.7924, Precision: 0.7824, Recall: 0.8219\n",
            "  Time Taken: 15.57 seconds\n",
            "\n",
            "\n",
            "Running Fold 8...\n"
          ]
        },
        {
          "output_type": "stream",
          "name": "stderr",
          "text": [
            "/usr/local/lib/python3.10/dist-packages/keras/src/layers/core/dense.py:87: UserWarning: Do not pass an `input_shape`/`input_dim` argument to a layer. When using Sequential models, prefer using an `Input(shape)` object as the first layer in the model instead.\n",
            "  super().__init__(activity_regularizer=activity_regularizer, **kwargs)\n"
          ]
        },
        {
          "output_type": "stream",
          "name": "stdout",
          "text": [
            "\u001b[1m65/65\u001b[0m \u001b[32m━━━━━━━━━━━━━━━━━━━━\u001b[0m\u001b[37m\u001b[0m \u001b[1m0s\u001b[0m 3ms/step\n",
            "\u001b[1m577/577\u001b[0m \u001b[32m━━━━━━━━━━━━━━━━━━━━\u001b[0m\u001b[37m\u001b[0m \u001b[1m1s\u001b[0m 1ms/step\n",
            "Fold 8 Results:\n",
            "  Train -> Accuracy: 0.8361, F1: 0.7947, Precision: 0.7999, Recall: 0.8361\n",
            "  Test  -> Accuracy: 0.8336, F1: 0.7884, Precision: 0.8140, Recall: 0.8336\n",
            "  Time Taken: 15.54 seconds\n",
            "\n",
            "\n",
            "Running Fold 9...\n"
          ]
        },
        {
          "output_type": "stream",
          "name": "stderr",
          "text": [
            "/usr/local/lib/python3.10/dist-packages/keras/src/layers/core/dense.py:87: UserWarning: Do not pass an `input_shape`/`input_dim` argument to a layer. When using Sequential models, prefer using an `Input(shape)` object as the first layer in the model instead.\n",
            "  super().__init__(activity_regularizer=activity_regularizer, **kwargs)\n"
          ]
        },
        {
          "output_type": "stream",
          "name": "stdout",
          "text": [
            "\u001b[1m65/65\u001b[0m \u001b[32m━━━━━━━━━━━━━━━━━━━━\u001b[0m\u001b[37m\u001b[0m \u001b[1m0s\u001b[0m 3ms/step\n",
            "\u001b[1m577/577\u001b[0m \u001b[32m━━━━━━━━━━━━━━━━━━━━\u001b[0m\u001b[37m\u001b[0m \u001b[1m1s\u001b[0m 1ms/step\n",
            "Fold 9 Results:\n",
            "  Train -> Accuracy: 0.8369, F1: 0.7939, Precision: 0.8199, Recall: 0.8369\n",
            "  Test  -> Accuracy: 0.8326, F1: 0.7873, Precision: 0.8531, Recall: 0.8326\n",
            "  Time Taken: 15.51 seconds\n",
            "\n",
            "\n",
            "Running Fold 10...\n"
          ]
        },
        {
          "output_type": "stream",
          "name": "stderr",
          "text": [
            "/usr/local/lib/python3.10/dist-packages/keras/src/layers/core/dense.py:87: UserWarning: Do not pass an `input_shape`/`input_dim` argument to a layer. When using Sequential models, prefer using an `Input(shape)` object as the first layer in the model instead.\n",
            "  super().__init__(activity_regularizer=activity_regularizer, **kwargs)\n"
          ]
        },
        {
          "output_type": "stream",
          "name": "stdout",
          "text": [
            "\u001b[1m65/65\u001b[0m \u001b[32m━━━━━━━━━━━━━━━━━━━━\u001b[0m\u001b[37m\u001b[0m \u001b[1m0s\u001b[0m 3ms/step\n",
            "\u001b[1m577/577\u001b[0m \u001b[32m━━━━━━━━━━━━━━━━━━━━\u001b[0m\u001b[37m\u001b[0m \u001b[1m1s\u001b[0m 1ms/step\n",
            "Fold 10 Results:\n",
            "  Train -> Accuracy: 0.8523, F1: 0.8257, Precision: 0.8265, Recall: 0.8523\n",
            "  Test  -> Accuracy: 0.8570, F1: 0.8346, Precision: 0.8298, Recall: 0.8570\n",
            "  Time Taken: 20.91 seconds\n",
            "\n",
            "\n",
            "Averaged Results Across All Folds:\n",
            "  Train -> Accuracy: 0.8395, F1: 0.8051, Precision: 0.8097, Recall: 0.8395\n",
            "  Test  -> Accuracy: 0.8364, F1: 0.8010, Precision: 0.8083, Recall: 0.8364\n",
            "  Average Time Taken per Fold: 16.85 seconds\n"
          ]
        }
      ]
    }
  ]
}