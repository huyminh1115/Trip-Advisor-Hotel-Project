{
  "nbformat": 4,
  "nbformat_minor": 0,
  "metadata": {
    "colab": {
      "provenance": [],
      "gpuType": "T4",
      "authorship_tag": "ABX9TyPyhkFj3yvHhlX7RBaDciOb",
      "include_colab_link": true
    },
    "kernelspec": {
      "name": "python3",
      "display_name": "Python 3"
    },
    "language_info": {
      "name": "python"
    },
    "accelerator": "GPU"
  },
  "cells": [
    {
      "cell_type": "markdown",
      "metadata": {
        "id": "view-in-github",
        "colab_type": "text"
      },
      "source": [
        "<a href=\"https://colab.research.google.com/github/huyminh1115/Trip-Advisor-Hotel-Project/blob/main/Code/Final_LSTM_model.ipynb\" target=\"_parent\"><img src=\"https://colab.research.google.com/assets/colab-badge.svg\" alt=\"Open In Colab\"/></a>"
      ]
    },
    {
      "cell_type": "code",
      "source": [
        "import tensorflow as tf\n",
        "\n",
        "if tf.config.list_physical_devices('GPU'):\n",
        "    print(\"GPU is available.\")\n",
        "    gpu_name = tf.config.list_physical_devices('GPU')[0]\n",
        "    print(\"GPU in use:\", gpu_name)\n",
        "else:\n",
        "    print(\"GPU is not available.\")\n"
      ],
      "metadata": {
        "colab": {
          "base_uri": "https://localhost:8080/"
        },
        "id": "hua71jDvl2by",
        "outputId": "16bf08b4-bbda-4dce-be27-8817a659fd54"
      },
      "execution_count": 1,
      "outputs": [
        {
          "output_type": "stream",
          "name": "stdout",
          "text": [
            "GPU is available.\n",
            "GPU in use: PhysicalDevice(name='/physical_device:GPU:0', device_type='GPU')\n"
          ]
        }
      ]
    },
    {
      "cell_type": "code",
      "execution_count": 68,
      "metadata": {
        "id": "3UOFngTDlhcY"
      },
      "outputs": [],
      "source": [
        "import string\n",
        "import numpy as np\n",
        "import pandas as pd\n",
        "import seaborn as sns\n",
        "import matplotlib.pyplot as plt\n",
        "import tensorflow as tf\n",
        "import pickle\n",
        "from wordcloud import WordCloud\n",
        "\n",
        "# Preprocessing and evaluation\n",
        "from nltk.corpus import stopwords\n",
        "from nltk.stem.snowball import SnowballStemmer\n",
        "from nltk.stem.wordnet import WordNetLemmatizer\n",
        "from sklearn.model_selection import train_test_split, StratifiedKFold, cross_val_score, GridSearchCV\n",
        "from sklearn.preprocessing import LabelBinarizer\n",
        "from sklearn.feature_extraction.text import TfidfVectorizer\n",
        "from sklearn.metrics import confusion_matrix, classification_report\n",
        "from tensorflow.keras.preprocessing.text import Tokenizer\n",
        "from tensorflow.keras.preprocessing.sequence import pad_sequences\n",
        "from tensorflow.keras.regularizers import l1, l2\n",
        "from tensorflow.keras.utils import to_categorical\n",
        "from tensorflow.keras.models import Sequential\n",
        "from tensorflow.keras.layers import Embedding, LSTM, Dense\n",
        "from tensorflow.keras.callbacks import EarlyStopping\n",
        "from sklearn.metrics import accuracy_score, f1_score, precision_score, recall_score\n",
        "\n",
        "import time"
      ]
    },
    {
      "cell_type": "code",
      "source": [
        "from google.colab import drive\n",
        "drive.mount('/content/drive')"
      ],
      "metadata": {
        "colab": {
          "base_uri": "https://localhost:8080/"
        },
        "id": "5xcRhUiYln4G",
        "outputId": "88f8b322-7d9d-44d4-93d9-59522ed21bc9"
      },
      "execution_count": 3,
      "outputs": [
        {
          "output_type": "stream",
          "name": "stdout",
          "text": [
            "Mounted at /content/drive\n"
          ]
        }
      ]
    },
    {
      "cell_type": "code",
      "source": [
        "data = pd.read_csv(\"/content/drive/MyDrive/Colab Notebooks/processed_data.csv\")"
      ],
      "metadata": {
        "id": "jIBVhIhFo9b9"
      },
      "execution_count": 25,
      "outputs": []
    },
    {
      "cell_type": "code",
      "source": [
        "data.head()"
      ],
      "metadata": {
        "colab": {
          "base_uri": "https://localhost:8080/",
          "height": 293
        },
        "id": "0p_IRFAXpDvr",
        "outputId": "1fb5c725-79a6-4ca7-f92d-947e410085a8"
      },
      "execution_count": 26,
      "outputs": [
        {
          "output_type": "execute_result",
          "data": {
            "text/plain": [
              "                                              Review  Rating  \\\n",
              "0  nice hotel expensive parking got good deal sta...       4   \n",
              "1  ok nothing special charge diamond member hilto...       2   \n",
              "2  nice rooms not 4* experience hotel monaco seat...       3   \n",
              "3  unique, great stay, wonderful time hotel monac...       5   \n",
              "4  great stay great stay, went seahawk game aweso...       5   \n",
              "\n",
              "                                               words  word_count  \\\n",
              "0  ['nice', 'hotel', 'expensive', 'parking', 'got...          87   \n",
              "1  ['ok', 'nothing', 'special', 'charge', 'diamon...         250   \n",
              "2  ['nice', 'rooms', 'not', '4*', 'experience', '...         217   \n",
              "3  ['unique,', 'great', 'stay,', 'wonderful', 'ti...          89   \n",
              "4  ['great', 'stay', 'great', 'stay,', 'went', 's...         191   \n",
              "\n",
              "                                           tokenized  \\\n",
              "0  nice hotel expensive parking get good deal sta...   \n",
              "1  ok nothing special charge diamond member hilto...   \n",
              "2  nice room not experience hotel monaco seattle ...   \n",
              "3  unique great stay wonderful time hotel monaco ...   \n",
              "4  great stay great stay go seahawk game awesome ...   \n",
              "\n",
              "                                     tokenized_words new_rating  label  \n",
              "0  ['nice', 'hotel', 'expensive', 'parking', 'get...    average      2  \n",
              "1  ['ok', 'nothing', 'special', 'charge', 'diamon...       poor      0  \n",
              "2  ['nice', 'room', 'not', 'experience', 'hotel',...    average      1  \n",
              "3  ['unique', 'great', 'stay', 'wonderful', 'time...  excellent      2  \n",
              "4  ['great', 'stay', 'great', 'stay', 'go', 'seah...  excellent      2  "
            ],
            "text/html": [
              "\n",
              "  <div id=\"df-fb96b176-623e-4aeb-98e3-e292589a38c6\" class=\"colab-df-container\">\n",
              "    <div>\n",
              "<style scoped>\n",
              "    .dataframe tbody tr th:only-of-type {\n",
              "        vertical-align: middle;\n",
              "    }\n",
              "\n",
              "    .dataframe tbody tr th {\n",
              "        vertical-align: top;\n",
              "    }\n",
              "\n",
              "    .dataframe thead th {\n",
              "        text-align: right;\n",
              "    }\n",
              "</style>\n",
              "<table border=\"1\" class=\"dataframe\">\n",
              "  <thead>\n",
              "    <tr style=\"text-align: right;\">\n",
              "      <th></th>\n",
              "      <th>Review</th>\n",
              "      <th>Rating</th>\n",
              "      <th>words</th>\n",
              "      <th>word_count</th>\n",
              "      <th>tokenized</th>\n",
              "      <th>tokenized_words</th>\n",
              "      <th>new_rating</th>\n",
              "      <th>label</th>\n",
              "    </tr>\n",
              "  </thead>\n",
              "  <tbody>\n",
              "    <tr>\n",
              "      <th>0</th>\n",
              "      <td>nice hotel expensive parking got good deal sta...</td>\n",
              "      <td>4</td>\n",
              "      <td>['nice', 'hotel', 'expensive', 'parking', 'got...</td>\n",
              "      <td>87</td>\n",
              "      <td>nice hotel expensive parking get good deal sta...</td>\n",
              "      <td>['nice', 'hotel', 'expensive', 'parking', 'get...</td>\n",
              "      <td>average</td>\n",
              "      <td>2</td>\n",
              "    </tr>\n",
              "    <tr>\n",
              "      <th>1</th>\n",
              "      <td>ok nothing special charge diamond member hilto...</td>\n",
              "      <td>2</td>\n",
              "      <td>['ok', 'nothing', 'special', 'charge', 'diamon...</td>\n",
              "      <td>250</td>\n",
              "      <td>ok nothing special charge diamond member hilto...</td>\n",
              "      <td>['ok', 'nothing', 'special', 'charge', 'diamon...</td>\n",
              "      <td>poor</td>\n",
              "      <td>0</td>\n",
              "    </tr>\n",
              "    <tr>\n",
              "      <th>2</th>\n",
              "      <td>nice rooms not 4* experience hotel monaco seat...</td>\n",
              "      <td>3</td>\n",
              "      <td>['nice', 'rooms', 'not', '4*', 'experience', '...</td>\n",
              "      <td>217</td>\n",
              "      <td>nice room not experience hotel monaco seattle ...</td>\n",
              "      <td>['nice', 'room', 'not', 'experience', 'hotel',...</td>\n",
              "      <td>average</td>\n",
              "      <td>1</td>\n",
              "    </tr>\n",
              "    <tr>\n",
              "      <th>3</th>\n",
              "      <td>unique, great stay, wonderful time hotel monac...</td>\n",
              "      <td>5</td>\n",
              "      <td>['unique,', 'great', 'stay,', 'wonderful', 'ti...</td>\n",
              "      <td>89</td>\n",
              "      <td>unique great stay wonderful time hotel monaco ...</td>\n",
              "      <td>['unique', 'great', 'stay', 'wonderful', 'time...</td>\n",
              "      <td>excellent</td>\n",
              "      <td>2</td>\n",
              "    </tr>\n",
              "    <tr>\n",
              "      <th>4</th>\n",
              "      <td>great stay great stay, went seahawk game aweso...</td>\n",
              "      <td>5</td>\n",
              "      <td>['great', 'stay', 'great', 'stay,', 'went', 's...</td>\n",
              "      <td>191</td>\n",
              "      <td>great stay great stay go seahawk game awesome ...</td>\n",
              "      <td>['great', 'stay', 'great', 'stay', 'go', 'seah...</td>\n",
              "      <td>excellent</td>\n",
              "      <td>2</td>\n",
              "    </tr>\n",
              "  </tbody>\n",
              "</table>\n",
              "</div>\n",
              "    <div class=\"colab-df-buttons\">\n",
              "\n",
              "  <div class=\"colab-df-container\">\n",
              "    <button class=\"colab-df-convert\" onclick=\"convertToInteractive('df-fb96b176-623e-4aeb-98e3-e292589a38c6')\"\n",
              "            title=\"Convert this dataframe to an interactive table.\"\n",
              "            style=\"display:none;\">\n",
              "\n",
              "  <svg xmlns=\"http://www.w3.org/2000/svg\" height=\"24px\" viewBox=\"0 -960 960 960\">\n",
              "    <path d=\"M120-120v-720h720v720H120Zm60-500h600v-160H180v160Zm220 220h160v-160H400v160Zm0 220h160v-160H400v160ZM180-400h160v-160H180v160Zm440 0h160v-160H620v160ZM180-180h160v-160H180v160Zm440 0h160v-160H620v160Z\"/>\n",
              "  </svg>\n",
              "    </button>\n",
              "\n",
              "  <style>\n",
              "    .colab-df-container {\n",
              "      display:flex;\n",
              "      gap: 12px;\n",
              "    }\n",
              "\n",
              "    .colab-df-convert {\n",
              "      background-color: #E8F0FE;\n",
              "      border: none;\n",
              "      border-radius: 50%;\n",
              "      cursor: pointer;\n",
              "      display: none;\n",
              "      fill: #1967D2;\n",
              "      height: 32px;\n",
              "      padding: 0 0 0 0;\n",
              "      width: 32px;\n",
              "    }\n",
              "\n",
              "    .colab-df-convert:hover {\n",
              "      background-color: #E2EBFA;\n",
              "      box-shadow: 0px 1px 2px rgba(60, 64, 67, 0.3), 0px 1px 3px 1px rgba(60, 64, 67, 0.15);\n",
              "      fill: #174EA6;\n",
              "    }\n",
              "\n",
              "    .colab-df-buttons div {\n",
              "      margin-bottom: 4px;\n",
              "    }\n",
              "\n",
              "    [theme=dark] .colab-df-convert {\n",
              "      background-color: #3B4455;\n",
              "      fill: #D2E3FC;\n",
              "    }\n",
              "\n",
              "    [theme=dark] .colab-df-convert:hover {\n",
              "      background-color: #434B5C;\n",
              "      box-shadow: 0px 1px 3px 1px rgba(0, 0, 0, 0.15);\n",
              "      filter: drop-shadow(0px 1px 2px rgba(0, 0, 0, 0.3));\n",
              "      fill: #FFFFFF;\n",
              "    }\n",
              "  </style>\n",
              "\n",
              "    <script>\n",
              "      const buttonEl =\n",
              "        document.querySelector('#df-fb96b176-623e-4aeb-98e3-e292589a38c6 button.colab-df-convert');\n",
              "      buttonEl.style.display =\n",
              "        google.colab.kernel.accessAllowed ? 'block' : 'none';\n",
              "\n",
              "      async function convertToInteractive(key) {\n",
              "        const element = document.querySelector('#df-fb96b176-623e-4aeb-98e3-e292589a38c6');\n",
              "        const dataTable =\n",
              "          await google.colab.kernel.invokeFunction('convertToInteractive',\n",
              "                                                    [key], {});\n",
              "        if (!dataTable) return;\n",
              "\n",
              "        const docLinkHtml = 'Like what you see? Visit the ' +\n",
              "          '<a target=\"_blank\" href=https://colab.research.google.com/notebooks/data_table.ipynb>data table notebook</a>'\n",
              "          + ' to learn more about interactive tables.';\n",
              "        element.innerHTML = '';\n",
              "        dataTable['output_type'] = 'display_data';\n",
              "        await google.colab.output.renderOutput(dataTable, element);\n",
              "        const docLink = document.createElement('div');\n",
              "        docLink.innerHTML = docLinkHtml;\n",
              "        element.appendChild(docLink);\n",
              "      }\n",
              "    </script>\n",
              "  </div>\n",
              "\n",
              "\n",
              "<div id=\"df-19e68b19-478d-46f8-a1ae-2e2a46e96bfa\">\n",
              "  <button class=\"colab-df-quickchart\" onclick=\"quickchart('df-19e68b19-478d-46f8-a1ae-2e2a46e96bfa')\"\n",
              "            title=\"Suggest charts\"\n",
              "            style=\"display:none;\">\n",
              "\n",
              "<svg xmlns=\"http://www.w3.org/2000/svg\" height=\"24px\"viewBox=\"0 0 24 24\"\n",
              "     width=\"24px\">\n",
              "    <g>\n",
              "        <path d=\"M19 3H5c-1.1 0-2 .9-2 2v14c0 1.1.9 2 2 2h14c1.1 0 2-.9 2-2V5c0-1.1-.9-2-2-2zM9 17H7v-7h2v7zm4 0h-2V7h2v10zm4 0h-2v-4h2v4z\"/>\n",
              "    </g>\n",
              "</svg>\n",
              "  </button>\n",
              "\n",
              "<style>\n",
              "  .colab-df-quickchart {\n",
              "      --bg-color: #E8F0FE;\n",
              "      --fill-color: #1967D2;\n",
              "      --hover-bg-color: #E2EBFA;\n",
              "      --hover-fill-color: #174EA6;\n",
              "      --disabled-fill-color: #AAA;\n",
              "      --disabled-bg-color: #DDD;\n",
              "  }\n",
              "\n",
              "  [theme=dark] .colab-df-quickchart {\n",
              "      --bg-color: #3B4455;\n",
              "      --fill-color: #D2E3FC;\n",
              "      --hover-bg-color: #434B5C;\n",
              "      --hover-fill-color: #FFFFFF;\n",
              "      --disabled-bg-color: #3B4455;\n",
              "      --disabled-fill-color: #666;\n",
              "  }\n",
              "\n",
              "  .colab-df-quickchart {\n",
              "    background-color: var(--bg-color);\n",
              "    border: none;\n",
              "    border-radius: 50%;\n",
              "    cursor: pointer;\n",
              "    display: none;\n",
              "    fill: var(--fill-color);\n",
              "    height: 32px;\n",
              "    padding: 0;\n",
              "    width: 32px;\n",
              "  }\n",
              "\n",
              "  .colab-df-quickchart:hover {\n",
              "    background-color: var(--hover-bg-color);\n",
              "    box-shadow: 0 1px 2px rgba(60, 64, 67, 0.3), 0 1px 3px 1px rgba(60, 64, 67, 0.15);\n",
              "    fill: var(--button-hover-fill-color);\n",
              "  }\n",
              "\n",
              "  .colab-df-quickchart-complete:disabled,\n",
              "  .colab-df-quickchart-complete:disabled:hover {\n",
              "    background-color: var(--disabled-bg-color);\n",
              "    fill: var(--disabled-fill-color);\n",
              "    box-shadow: none;\n",
              "  }\n",
              "\n",
              "  .colab-df-spinner {\n",
              "    border: 2px solid var(--fill-color);\n",
              "    border-color: transparent;\n",
              "    border-bottom-color: var(--fill-color);\n",
              "    animation:\n",
              "      spin 1s steps(1) infinite;\n",
              "  }\n",
              "\n",
              "  @keyframes spin {\n",
              "    0% {\n",
              "      border-color: transparent;\n",
              "      border-bottom-color: var(--fill-color);\n",
              "      border-left-color: var(--fill-color);\n",
              "    }\n",
              "    20% {\n",
              "      border-color: transparent;\n",
              "      border-left-color: var(--fill-color);\n",
              "      border-top-color: var(--fill-color);\n",
              "    }\n",
              "    30% {\n",
              "      border-color: transparent;\n",
              "      border-left-color: var(--fill-color);\n",
              "      border-top-color: var(--fill-color);\n",
              "      border-right-color: var(--fill-color);\n",
              "    }\n",
              "    40% {\n",
              "      border-color: transparent;\n",
              "      border-right-color: var(--fill-color);\n",
              "      border-top-color: var(--fill-color);\n",
              "    }\n",
              "    60% {\n",
              "      border-color: transparent;\n",
              "      border-right-color: var(--fill-color);\n",
              "    }\n",
              "    80% {\n",
              "      border-color: transparent;\n",
              "      border-right-color: var(--fill-color);\n",
              "      border-bottom-color: var(--fill-color);\n",
              "    }\n",
              "    90% {\n",
              "      border-color: transparent;\n",
              "      border-bottom-color: var(--fill-color);\n",
              "    }\n",
              "  }\n",
              "</style>\n",
              "\n",
              "  <script>\n",
              "    async function quickchart(key) {\n",
              "      const quickchartButtonEl =\n",
              "        document.querySelector('#' + key + ' button');\n",
              "      quickchartButtonEl.disabled = true;  // To prevent multiple clicks.\n",
              "      quickchartButtonEl.classList.add('colab-df-spinner');\n",
              "      try {\n",
              "        const charts = await google.colab.kernel.invokeFunction(\n",
              "            'suggestCharts', [key], {});\n",
              "      } catch (error) {\n",
              "        console.error('Error during call to suggestCharts:', error);\n",
              "      }\n",
              "      quickchartButtonEl.classList.remove('colab-df-spinner');\n",
              "      quickchartButtonEl.classList.add('colab-df-quickchart-complete');\n",
              "    }\n",
              "    (() => {\n",
              "      let quickchartButtonEl =\n",
              "        document.querySelector('#df-19e68b19-478d-46f8-a1ae-2e2a46e96bfa button');\n",
              "      quickchartButtonEl.style.display =\n",
              "        google.colab.kernel.accessAllowed ? 'block' : 'none';\n",
              "    })();\n",
              "  </script>\n",
              "</div>\n",
              "\n",
              "    </div>\n",
              "  </div>\n"
            ],
            "application/vnd.google.colaboratory.intrinsic+json": {
              "type": "dataframe",
              "variable_name": "data",
              "summary": "{\n  \"name\": \"data\",\n  \"rows\": 20491,\n  \"fields\": [\n    {\n      \"column\": \"Review\",\n      \"properties\": {\n        \"dtype\": \"string\",\n        \"num_unique_values\": 20491,\n        \"samples\": [\n          \"not recommend hotel did reviewers actually stay hotel did, good thing hotel location really close leidseplein, shared facilities filthy got, did not look toilet floor cleaned month, facilities not cleaned 3 days got, disgusting, staff rude complained left night early refused refund night, not recommend hotel,  \",\n          \"barcelona rocks, stayed hotel jazz girlfriend 3 nights end august.the hotel excellent location carrer pelai, close placa catalunya ramblas appreciate buzz city removed respite mayhem crowds, caught airport bus barcelona costs 7 euros person return trip, hotel located 2 mins walk maximum placa universitat stop 2nd route, hotel modern clean, air conditioning room superb balcony looking street outside, room good size, bathroom fine scrimp bit toiletries, bring shower gels unless consider washing unnecessary luxury travels.the downside hotel possibly strengths depending viewpoint, hotel superbly situated 2 different metro stations extremely handy need city sights, downside feel rumbling trains hotel 3rd floor located, worse incessant sound taxi horns hotel mela times square nyc ca n't say disturbed consideration light sleepers irritation, couple shops hotel useful snacks drinks want avoid minibar prices, pool roof tiny n't recommend booking pretty nice place kill time particularly check day just wanted sit chill, n't expect able sit night, shuts fairly early.the hotel excellent 3 star property suggest prices pretty 4 star level, aside hotel tourist bus stopped directly opposite room recommend good way getting overview timer city want possible different areas, think used barcelona tours continuous loop alternative bus turistic 3 different loops involves changing bus round different areas.see gaudi, no fan architecture means, parc guell worth visit nice day n't mind walking uphill, sagrada familia outstanding, couple boat tours port harbour, personally bit underwhelming, save time money things.the nou camp tour worth visit no fan football, stadium amazing history club fascinating, plans redevelopment spectacle completed.ignore negative websites sprung make barcelona akin early days wild west, n't, just sensible major city, read ludicrous claims mark target muggers/pickpockets wore shorts/looked map/did n't speak spanish, rubbish, area ramblas felt safe, couple areas lower end raval little seedy late night just n't stupid fine, worst crime encountered charged 10 euros 2 heinekens irish bar just ramblas heard no-one eats restaurants 9 suffer lack atmosphere did, did n't appear strictly true concede 3 nights, tell restaurants open 8-8.30pm worth getting avoid queues, saturday night arrived restaurant 8.30 offered seat terrace opting window seat overlooking ramblas, 9 turning people away, 9.45 taken pick tables, burst activity 9 n't bad.enjoy,  \",\n          \"ok hotel good location stayed night way beijing rawa island, hotel service room ok. location great shopping restaurants, probably stay, opinion nice 3 star hotel,  \"\n        ],\n        \"semantic_type\": \"\",\n        \"description\": \"\"\n      }\n    },\n    {\n      \"column\": \"Rating\",\n      \"properties\": {\n        \"dtype\": \"number\",\n        \"std\": 1,\n        \"min\": 1,\n        \"max\": 5,\n        \"num_unique_values\": 5,\n        \"samples\": [\n          2,\n          1,\n          3\n        ],\n        \"semantic_type\": \"\",\n        \"description\": \"\"\n      }\n    },\n    {\n      \"column\": \"words\",\n      \"properties\": {\n        \"dtype\": \"string\",\n        \"num_unique_values\": 20491,\n        \"samples\": [\n          \"['not', 'recommend', 'hotel', 'did', 'reviewers', 'actually', 'stay', 'hotel', 'did,', 'good', 'thing', 'hotel', 'location', 'really', 'close', 'leidseplein,', 'shared', 'facilities', 'filthy', 'got,', 'did', 'not', 'look', 'toilet', 'floor', 'cleaned', 'month,', 'facilities', 'not', 'cleaned', '3', 'days', 'got,', 'disgusting,', 'staff', 'rude', 'complained', 'left', 'night', 'early', 'refused', 'refund', 'night,', 'not', 'recommend', 'hotel,']\",\n          \"['barcelona', 'rocks,', 'stayed', 'hotel', 'jazz', 'girlfriend', '3', 'nights', 'end', 'august.the', 'hotel', 'excellent', 'location', 'carrer', 'pelai,', 'close', 'placa', 'catalunya', 'ramblas', 'appreciate', 'buzz', 'city', 'removed', 'respite', 'mayhem', 'crowds,', 'caught', 'airport', 'bus', 'barcelona', 'costs', '7', 'euros', 'person', 'return', 'trip,', 'hotel', 'located', '2', 'mins', 'walk', 'maximum', 'placa', 'universitat', 'stop', '2nd', 'route,', 'hotel', 'modern', 'clean,', 'air', 'conditioning', 'room', 'superb', 'balcony', 'looking', 'street', 'outside,', 'room', 'good', 'size,', 'bathroom', 'fine', 'scrimp', 'bit', 'toiletries,', 'bring', 'shower', 'gels', 'unless', 'consider', 'washing', 'unnecessary', 'luxury', 'travels.the', 'downside', 'hotel', 'possibly', 'strengths', 'depending', 'viewpoint,', 'hotel', 'superbly', 'situated', '2', 'different', 'metro', 'stations', 'extremely', 'handy', 'need', 'city', 'sights,', 'downside', 'feel', 'rumbling', 'trains', 'hotel', '3rd', 'floor', 'located,', 'worse', 'incessant', 'sound', 'taxi', 'horns', 'hotel', 'mela', 'times', 'square', 'nyc', 'ca', \\\"n't\\\", 'say', 'disturbed', 'consideration', 'light', 'sleepers', 'irritation,', 'couple', 'shops', 'hotel', 'useful', 'snacks', 'drinks', 'want', 'avoid', 'minibar', 'prices,', 'pool', 'roof', 'tiny', \\\"n't\\\", 'recommend', 'booking', 'pretty', 'nice', 'place', 'kill', 'time', 'particularly', 'check', 'day', 'just', 'wanted', 'sit', 'chill,', \\\"n't\\\", 'expect', 'able', 'sit', 'night,', 'shuts', 'fairly', 'early.the', 'hotel', 'excellent', '3', 'star', 'property', 'suggest', 'prices', 'pretty', '4', 'star', 'level,', 'aside', 'hotel', 'tourist', 'bus', 'stopped', 'directly', 'opposite', 'room', 'recommend', 'good', 'way', 'getting', 'overview', 'timer', 'city', 'want', 'possible', 'different', 'areas,', 'think', 'used', 'barcelona', 'tours', 'continuous', 'loop', 'alternative', 'bus', 'turistic', '3', 'different', 'loops', 'involves', 'changing', 'bus', 'round', 'different', 'areas.see', 'gaudi,', 'no', 'fan', 'architecture', 'means,', 'parc', 'guell', 'worth', 'visit', 'nice', 'day', \\\"n't\\\", 'mind', 'walking', 'uphill,', 'sagrada', 'familia', 'outstanding,', 'couple', 'boat', 'tours', 'port', 'harbour,', 'personally', 'bit', 'underwhelming,', 'save', 'time', 'money', 'things.the', 'nou', 'camp', 'tour', 'worth', 'visit', 'no', 'fan', 'football,', 'stadium', 'amazing', 'history', 'club', 'fascinating,', 'plans', 'redevelopment', 'spectacle', 'completed.ignore', 'negative', 'websites', 'sprung', 'make', 'barcelona', 'akin', 'early', 'days', 'wild', 'west,', \\\"n't,\\\", 'just', 'sensible', 'major', 'city,', 'read', 'ludicrous', 'claims', 'mark', 'target', 'muggers/pickpockets', 'wore', 'shorts/looked', 'map/did', \\\"n't\\\", 'speak', 'spanish,', 'rubbish,', 'area', 'ramblas', 'felt', 'safe,', 'couple', 'areas', 'lower', 'end', 'raval', 'little', 'seedy', 'late', 'night', 'just', \\\"n't\\\", 'stupid', 'fine,', 'worst', 'crime', 'encountered', 'charged', '10', 'euros', '2', 'heinekens', 'irish', 'bar', 'just', 'ramblas', 'heard', 'no-one', 'eats', 'restaurants', '9', 'suffer', 'lack', 'atmosphere', 'did,', 'did', \\\"n't\\\", 'appear', 'strictly', 'true', 'concede', '3', 'nights,', 'tell', 'restaurants', 'open', '8-8.30pm', 'worth', 'getting', 'avoid', 'queues,', 'saturday', 'night', 'arrived', 'restaurant', '8.30', 'offered', 'seat', 'terrace', 'opting', 'window', 'seat', 'overlooking', 'ramblas,', '9', 'turning', 'people', 'away,', '9.45', 'taken', 'pick', 'tables,', 'burst', 'activity', '9', \\\"n't\\\", 'bad.enjoy,']\",\n          \"['ok', 'hotel', 'good', 'location', 'stayed', 'night', 'way', 'beijing', 'rawa', 'island,', 'hotel', 'service', 'room', 'ok.', 'location', 'great', 'shopping', 'restaurants,', 'probably', 'stay,', 'opinion', 'nice', '3', 'star', 'hotel,']\"\n        ],\n        \"semantic_type\": \"\",\n        \"description\": \"\"\n      }\n    },\n    {\n      \"column\": \"word_count\",\n      \"properties\": {\n        \"dtype\": \"number\",\n        \"std\": 100,\n        \"min\": 7,\n        \"max\": 1931,\n        \"num_unique_values\": 636,\n        \"samples\": [\n          258,\n          876,\n          51\n        ],\n        \"semantic_type\": \"\",\n        \"description\": \"\"\n      }\n    },\n    {\n      \"column\": \"tokenized\",\n      \"properties\": {\n        \"dtype\": \"string\",\n        \"num_unique_values\": 20491,\n        \"samples\": [\n          \"not recommend hotel reviewer actually stay hotel good thing hotel location really close leidseplein share facility filthy got not look toilet floor clean month facility not clean day get disgusting staff rude complain left night early refuse refund night not recommend hotel\",\n          \"barcelona rock stay hotel jazz girlfriend night end august hotel excellent location carrer pelai close placa catalunya ramblas appreciate buzz city remove respite mayhem crowd catch airport bus barcelona cost euro person return trip hotel locate min walk maximum placa universitat stop nd route hotel modern clean air conditioning room superb balcony look street outside room good size bathroom fine scrimp bit toiletry bring shower gel unless consider wash unnecessary luxury travels downside hotel possibly strength depend viewpoint hotel superbly situate different metro station extremely handy need city sight downside feel rumble train hotel rd floor locate bad incessant sound taxi horn hotel mela times square nyc not say disturbed consideration light sleeper irritation couple shop hotel useful snack drink want avoid minibar price pool roof tiny not recommend book pretty nice place kill time particularly check day want sit chill not expect able sit night shut fairly early hotel excellent star property suggest price pretty star level aside hotel tourist bus stop directly opposite room recommend good way get overview timer city want possible different area think use barcelona tour continuous loop alternative bus turistic different loop involve change bus round different areas see gaudi fan architecture mean parc guell worth visit nice day not mind walk uphill sagrada familia outstanding couple boat tour port harbour personally bit underwhelming save time money things nou camp tour worth visit fan football stadium amazing history club fascinating plan redevelopment spectacle completed ignore negative website spring make barcelona akin early day wild west not sensible major city read ludicrous claim mark target mugger pickpocket wear short look map not speak spanish rubbish area rambla feel safe couple area low end raval little seedy late night not stupid fine bad crime encounter charge euro heineken irish bar rambla hear one eat restaurant suffer lack atmosphere not appear strictly true concede night tell restaurant open pm worth get avoid queue saturday night arrive restaurant offer seat terrace opt window seat overlook rambla turn people away take pick table burst activity not bad enjoy\",\n          \"ok hotel good location stay night way beijing rawa island hotel service room ok location great shopping restaurant probably stay opinion nice star hotel\"\n        ],\n        \"semantic_type\": \"\",\n        \"description\": \"\"\n      }\n    },\n    {\n      \"column\": \"tokenized_words\",\n      \"properties\": {\n        \"dtype\": \"string\",\n        \"num_unique_values\": 20491,\n        \"samples\": [\n          \"['not', 'recommend', 'hotel', 'reviewer', 'actually', 'stay', 'hotel', 'good', 'thing', 'hotel', 'location', 'really', 'close', 'leidseplein', 'share', 'facility', 'filthy', 'got', 'not', 'look', 'toilet', 'floor', 'clean', 'month', 'facility', 'not', 'clean', 'day', 'get', 'disgusting', 'staff', 'rude', 'complain', 'left', 'night', 'early', 'refuse', 'refund', 'night', 'not', 'recommend', 'hotel']\",\n          \"['barcelona', 'rock', 'stay', 'hotel', 'jazz', 'girlfriend', 'night', 'end', 'august', 'hotel', 'excellent', 'location', 'carrer', 'pelai', 'close', 'placa', 'catalunya', 'ramblas', 'appreciate', 'buzz', 'city', 'remove', 'respite', 'mayhem', 'crowd', 'catch', 'airport', 'bus', 'barcelona', 'cost', 'euro', 'person', 'return', 'trip', 'hotel', 'locate', 'min', 'walk', 'maximum', 'placa', 'universitat', 'stop', 'nd', 'route', 'hotel', 'modern', 'clean', 'air', 'conditioning', 'room', 'superb', 'balcony', 'look', 'street', 'outside', 'room', 'good', 'size', 'bathroom', 'fine', 'scrimp', 'bit', 'toiletry', 'bring', 'shower', 'gel', 'unless', 'consider', 'wash', 'unnecessary', 'luxury', 'travels', 'downside', 'hotel', 'possibly', 'strength', 'depend', 'viewpoint', 'hotel', 'superbly', 'situate', 'different', 'metro', 'station', 'extremely', 'handy', 'need', 'city', 'sight', 'downside', 'feel', 'rumble', 'train', 'hotel', 'rd', 'floor', 'locate', 'bad', 'incessant', 'sound', 'taxi', 'horn', 'hotel', 'mela', 'times', 'square', 'nyc', 'not', 'say', 'disturbed', 'consideration', 'light', 'sleeper', 'irritation', 'couple', 'shop', 'hotel', 'useful', 'snack', 'drink', 'want', 'avoid', 'minibar', 'price', 'pool', 'roof', 'tiny', 'not', 'recommend', 'book', 'pretty', 'nice', 'place', 'kill', 'time', 'particularly', 'check', 'day', 'want', 'sit', 'chill', 'not', 'expect', 'able', 'sit', 'night', 'shut', 'fairly', 'early', 'hotel', 'excellent', 'star', 'property', 'suggest', 'price', 'pretty', 'star', 'level', 'aside', 'hotel', 'tourist', 'bus', 'stop', 'directly', 'opposite', 'room', 'recommend', 'good', 'way', 'get', 'overview', 'timer', 'city', 'want', 'possible', 'different', 'area', 'think', 'use', 'barcelona', 'tour', 'continuous', 'loop', 'alternative', 'bus', 'turistic', 'different', 'loop', 'involve', 'change', 'bus', 'round', 'different', 'areas', 'see', 'gaudi', 'fan', 'architecture', 'mean', 'parc', 'guell', 'worth', 'visit', 'nice', 'day', 'not', 'mind', 'walk', 'uphill', 'sagrada', 'familia', 'outstanding', 'couple', 'boat', 'tour', 'port', 'harbour', 'personally', 'bit', 'underwhelming', 'save', 'time', 'money', 'things', 'nou', 'camp', 'tour', 'worth', 'visit', 'fan', 'football', 'stadium', 'amazing', 'history', 'club', 'fascinating', 'plan', 'redevelopment', 'spectacle', 'completed', 'ignore', 'negative', 'website', 'spring', 'make', 'barcelona', 'akin', 'early', 'day', 'wild', 'west', 'not', 'sensible', 'major', 'city', 'read', 'ludicrous', 'claim', 'mark', 'target', 'mugger', 'pickpocket', 'wear', 'short', 'look', 'map', 'not', 'speak', 'spanish', 'rubbish', 'area', 'rambla', 'feel', 'safe', 'couple', 'area', 'low', 'end', 'raval', 'little', 'seedy', 'late', 'night', 'not', 'stupid', 'fine', 'bad', 'crime', 'encounter', 'charge', 'euro', 'heineken', 'irish', 'bar', 'rambla', 'hear', 'one', 'eat', 'restaurant', 'suffer', 'lack', 'atmosphere', 'not', 'appear', 'strictly', 'true', 'concede', 'night', 'tell', 'restaurant', 'open', 'pm', 'worth', 'get', 'avoid', 'queue', 'saturday', 'night', 'arrive', 'restaurant', 'offer', 'seat', 'terrace', 'opt', 'window', 'seat', 'overlook', 'rambla', 'turn', 'people', 'away', 'take', 'pick', 'table', 'burst', 'activity', 'not', 'bad', 'enjoy']\",\n          \"['ok', 'hotel', 'good', 'location', 'stay', 'night', 'way', 'beijing', 'rawa', 'island', 'hotel', 'service', 'room', 'ok', 'location', 'great', 'shopping', 'restaurant', 'probably', 'stay', 'opinion', 'nice', 'star', 'hotel']\"\n        ],\n        \"semantic_type\": \"\",\n        \"description\": \"\"\n      }\n    },\n    {\n      \"column\": \"new_rating\",\n      \"properties\": {\n        \"dtype\": \"category\",\n        \"num_unique_values\": 3,\n        \"samples\": [\n          \"average\",\n          \"poor\",\n          \"excellent\"\n        ],\n        \"semantic_type\": \"\",\n        \"description\": \"\"\n      }\n    },\n    {\n      \"column\": \"label\",\n      \"properties\": {\n        \"dtype\": \"number\",\n        \"std\": 0,\n        \"min\": 0,\n        \"max\": 2,\n        \"num_unique_values\": 3,\n        \"samples\": [\n          2,\n          0,\n          1\n        ],\n        \"semantic_type\": \"\",\n        \"description\": \"\"\n      }\n    }\n  ]\n}"
            }
          },
          "metadata": {},
          "execution_count": 26
        }
      ]
    },
    {
      "cell_type": "code",
      "source": [
        "import ast  # Used to safely parse the string representation of lists\n",
        "\n",
        "# Ensure the 'tokenized_review' column contains strings like \"['word1', 'word2']\"\n",
        "data['review_length'] = data['tokenized_words'].apply(lambda x: len(ast.literal_eval(x)))\n",
        "\n",
        "# Display basic statistics about the review lengths\n",
        "stats = data['review_length'].describe()\n",
        "print(stats)\n",
        "\n",
        "# Optional: Plot a histogram to visualize the distribution of review lengths\n",
        "import matplotlib.pyplot as plt\n",
        "\n",
        "plt.figure(figsize=(10, 6))\n",
        "plt.hist(data['review_length'], bins=30, edgecolor='black')\n",
        "plt.title('Distribution of Tokenized Review Lengths')\n",
        "plt.xlabel('Length of Review')\n",
        "plt.ylabel('Frequency')\n",
        "plt.show()\n"
      ],
      "metadata": {
        "colab": {
          "base_uri": "https://localhost:8080/",
          "height": 733
        },
        "id": "qN_Gd_l6uOKt",
        "outputId": "9c5441c6-a11f-4b20-ceb4-cb453e32641b"
      },
      "execution_count": 29,
      "outputs": [
        {
          "output_type": "stream",
          "name": "stdout",
          "text": [
            "count    20491.000000\n",
            "mean       100.464594\n",
            "std         96.061541\n",
            "min          7.000000\n",
            "25%         47.000000\n",
            "50%         74.000000\n",
            "75%        119.000000\n",
            "max       1901.000000\n",
            "Name: review_length, dtype: float64\n"
          ]
        },
        {
          "output_type": "display_data",
          "data": {
            "text/plain": [
              "<Figure size 1000x600 with 1 Axes>"
            ],
            "image/png": "[encoded data removed]"
          },
          "metadata": {}
        }
      ]
    },
    {
      "cell_type": "code",
      "source": [
        "all_words = data['tokenized_words'].apply(lambda x: ast.literal_eval(x))\n",
        "all_words = all_words.explode().tolist()\n",
        "\n",
        "unique_words = set(all_words)\n",
        "print(f'Number of uniquie words: {len(unique_words)}')"
      ],
      "metadata": {
        "colab": {
          "base_uri": "https://localhost:8080/"
        },
        "id": "g1blsf2qvxGA",
        "outputId": "a3ec1a0b-4939-40cc-a00b-1c5c92e95b43"
      },
      "execution_count": 30,
      "outputs": [
        {
          "output_type": "stream",
          "name": "stdout",
          "text": [
            "Number of uniquie words: 43654\n"
          ]
        }
      ]
    },
    {
      "cell_type": "code",
      "source": [
        "from collections import Counter\n",
        "import matplotlib.pyplot as plt\n",
        "\n",
        "word_counts = Counter(all_words)\n",
        "\n",
        "top_1000_words = word_counts.most_common(1000)\n",
        "top_1000_data = pd.DataFrame(top_1000_words, columns=['Word', 'Frequency'])\n",
        "print(top_1000_data)\n",
        "\n",
        "top_2000_words = word_counts.most_common(2000)\n",
        "top_2000_data = pd.DataFrame(top_2000_words, columns=['Word', 'Frequency'])\n",
        "print(top_2000_data)\n",
        "\n",
        "M = 100\n",
        "filtered_words = {word: count for word, count in word_counts.items() if count >= M}\n",
        "len(filtered_words)"
      ],
      "metadata": {
        "colab": {
          "base_uri": "https://localhost:8080/"
        },
        "id": "l4PcbHdQxMYL",
        "outputId": "d29097c2-c520-4c79-abd2-30bb5e431d52"
      },
      "execution_count": 51,
      "outputs": [
        {
          "output_type": "stream",
          "name": "stdout",
          "text": [
            "         Word  Frequency\n",
            "0       hotel      53633\n",
            "1         not      53228\n",
            "2        room      47634\n",
            "3        stay      28112\n",
            "4        good      22152\n",
            "..        ...        ...\n",
            "995   nightly        316\n",
            "996   complex        316\n",
            "997  mosquito        316\n",
            "998    nearly        315\n",
            "999     spray        315\n",
            "\n",
            "[1000 rows x 2 columns]\n",
            "            Word  Frequency\n",
            "0          hotel      53633\n",
            "1            not      53228\n",
            "2           room      47634\n",
            "3           stay      28112\n",
            "4           good      22152\n",
            "...          ...        ...\n",
            "1995    accurate        112\n",
            "1996  department        112\n",
            "1997        sept        112\n",
            "1998  restaraunt        112\n",
            "1999      candle        112\n",
            "\n",
            "[2000 rows x 2 columns]\n"
          ]
        },
        {
          "output_type": "execute_result",
          "data": {
            "text/plain": [
              "2152"
            ]
          },
          "metadata": {},
          "execution_count": 51
        }
      ]
    },
    {
      "cell_type": "code",
      "source": [
        "X = np.array(data['tokenized_words'].tolist())\n",
        "y = data['label']"
      ],
      "metadata": {
        "id": "9CO_wxr7pFXS"
      },
      "execution_count": 52,
      "outputs": []
    },
    {
      "cell_type": "code",
      "source": [
        "from sklearn.model_selection import KFold\n",
        "\n",
        "tokenizer = Tokenizer(num_words=2000, oov_token=\"<OOV>\")\n",
        "tokenizer.fit_on_texts(X)\n",
        "\n",
        "# Convert text to sequences\n",
        "sequences = tokenizer.texts_to_sequences(data['tokenized'])\n",
        "max_len = 120  # Maximum sequence length\n",
        "\n",
        "# Pad sequences to ensure uniform length\n",
        "padded_sequences = pad_sequences(sequences, maxlen=max_len, padding='post', truncating='post')\n",
        "\n",
        "# Convert labels to categorical format\n",
        "labels = to_categorical(y, num_classes=3)\n",
        "\n",
        "# KFold setup for 10-fold cross-validation\n",
        "kf = KFold(n_splits=10, shuffle=True, random_state=42)"
      ],
      "metadata": {
        "id": "TELyTumppb4R"
      },
      "execution_count": 56,
      "outputs": []
    },
    {
      "cell_type": "code",
      "source": [
        "# Store results for each fold\n",
        "results = []\n",
        "\n",
        "def create_lstm_model():\n",
        "    model = Sequential()\n",
        "    model.add(Embedding(input_dim=2000, output_dim=128, input_length=max_len))  # Embedding layer\n",
        "    model.add(LSTM(64))  # LSTM layer\n",
        "    model.add(Dense(3, activation='softmax'))  # Output layer for 3 classes\n",
        "    model.compile(loss='categorical_crossentropy', optimizer='adam', metrics=['accuracy'])\n",
        "    return model\n",
        "\n",
        "# Perform 10-fold cross-validation\n",
        "for fold_idx, (train_idx, test_idx) in enumerate(kf.split(padded_sequences), start=1):\n",
        "    print(f\"\\nRunning Fold {fold_idx}...\")\n",
        "\n",
        "    # Split data into train and test sets for this fold\n",
        "    X_train, X_test = padded_sequences[train_idx], padded_sequences[test_idx]\n",
        "    y_train, y_test = labels[train_idx], labels[test_idx]\n",
        "\n",
        "    # Create a new instance of the LSTM model for each fold\n",
        "    model = create_lstm_model()\n",
        "\n",
        "    # Early stopping to prevent overfitting\n",
        "    early_stopping = EarlyStopping(\n",
        "        monitor='val_loss', patience=20, restore_best_weights=True, verbose=1\n",
        "    )\n",
        "\n",
        "    # Train the model\n",
        "    start_time = time.time()\n",
        "    history = model.fit(\n",
        "        X_train, y_train,\n",
        "        epochs=100,  # Maximum number of epochs\n",
        "        batch_size=64,\n",
        "        validation_data=(X_test, y_test),\n",
        "        callbacks=[early_stopping],\n",
        "        verbose=0\n",
        "    )\n",
        "    elapsed_time = time.time() - start_time\n",
        "\n",
        "    # Evaluate on the training set\n",
        "    train_loss, train_accuracy = model.evaluate(X_train, y_train, verbose=0)\n",
        "\n",
        "    # Evaluate on the test set\n",
        "    test_loss, test_accuracy = model.evaluate(X_test, y_test, verbose=0)\n",
        "\n",
        "    # Make predictions for metrics calculation\n",
        "    y_train_pred = np.argmax(model.predict(X_train), axis=1)\n",
        "    y_test_pred = np.argmax(model.predict(X_test), axis=1)\n",
        "\n",
        "    # Convert categorical labels back to integer form for metrics\n",
        "    y_train_true = np.argmax(y_train, axis=1)\n",
        "    y_test_true = np.argmax(y_test, axis=1)\n",
        "\n",
        "    # Calculate metrics\n",
        "    train_f1 = f1_score(y_train_true, y_train_pred, average='weighted')\n",
        "    train_precision = precision_score(y_train_true, y_train_pred, average='weighted')\n",
        "    train_recall = recall_score(y_train_true, y_train_pred, average='weighted')\n",
        "\n",
        "    test_f1 = f1_score(y_test_true, y_test_pred, average='weighted')\n",
        "    test_precision = precision_score(y_test_true, y_test_pred, average='weighted')\n",
        "    test_recall = recall_score(y_test_true, y_test_pred, average='weighted')\n",
        "\n",
        "    # Store results for this fold\n",
        "    results.append({\n",
        "        \"Fold\": fold_idx,\n",
        "        \"Train Accuracy\": train_accuracy,\n",
        "        \"Train F1\": train_f1,\n",
        "        \"Train Precision\": train_precision,\n",
        "        \"Train Recall\": train_recall,\n",
        "        \"Test Accuracy\": test_accuracy,\n",
        "        \"Test F1\": test_f1,\n",
        "        \"Test Precision\": test_precision,\n",
        "        \"Test Recall\": test_recall,\n",
        "        \"Time\": elapsed_time\n",
        "    })\n",
        "\n",
        "    # Print fold results\n",
        "    print(f\"Fold {fold_idx} Results:\")\n",
        "    print(f\"  Train -> Accuracy: {train_accuracy:.4f}, F1: {train_f1:.4f}, \"\n",
        "          f\"Precision: {train_precision:.4f}, Recall: {train_recall:.4f}\")\n",
        "    print(f\"  Test  -> Accuracy: {test_accuracy:.4f}, F1: {test_f1:.4f}, \"\n",
        "          f\"Precision: {test_precision:.4f}, Recall: {test_recall:.4f}\")\n",
        "    print(f\"  Time Taken: {elapsed_time:.2f} seconds\\n\")\n",
        "\n",
        "# Calculate and display averaged metrics across all folds\n",
        "avg_metrics = {\n",
        "    metric: np.mean([result[metric] for result in results])\n",
        "    for metric in [\"Train Accuracy\", \"Train F1\", \"Train Precision\", \"Train Recall\",\n",
        "                   \"Test Accuracy\", \"Test F1\", \"Test Precision\", \"Test Recall\", \"Time\"]\n",
        "}\n",
        "\n",
        "print(\"\\nAveraged Results Across All Folds:\")\n",
        "print(f\"  Train -> Accuracy: {avg_metrics['Train Accuracy']:.4f}, \"\n",
        "      f\"F1: {avg_metrics['Train F1']:.4f}, \"\n",
        "      f\"Precision: {avg_metrics['Train Precision']:.4f}, \"\n",
        "      f\"Recall: {avg_metrics['Train Recall']:.4f}\")\n",
        "print(f\"  Test  -> Accuracy: {avg_metrics['Test Accuracy']:.4f}, \"\n",
        "      f\"F1: {avg_metrics['Test F1']:.4f}, \"\n",
        "      f\"Precision: {avg_metrics['Test Precision']:.4f}, \"\n",
        "      f\"Recall: {avg_metrics['Test Recall']:.4f}\")\n",
        "print(f\"  Average Time Taken per Fold: {avg_metrics['Time']:.2f} seconds\")\n"
      ],
      "metadata": {
        "colab": {
          "base_uri": "https://localhost:8080/"
        },
        "id": "c_JBBoU1qQOo",
        "outputId": "cfd72d1a-0d6b-46f8-fd74-243f808496de"
      },
      "execution_count": 69,
      "outputs": [
        {
          "output_type": "stream",
          "name": "stdout",
          "text": [
            "\n",
            "Running Fold 1...\n",
            "Epoch 24: early stopping\n",
            "Restoring model weights from the end of the best epoch: 4.\n",
            "\u001b[1m577/577\u001b[0m \u001b[32m━━━━━━━━━━━━━━━━━━━━\u001b[0m\u001b[37m\u001b[0m \u001b[1m2s\u001b[0m 4ms/step\n",
            "\u001b[1m65/65\u001b[0m \u001b[32m━━━━━━━━━━━━━━━━━━━━\u001b[0m\u001b[37m\u001b[0m \u001b[1m0s\u001b[0m 3ms/step\n",
            "Fold 1 Results:\n",
            "  Train -> Accuracy: 0.7358, F1: 0.6237, Precision: 0.5413, Recall: 0.7358\n",
            "  Test  -> Accuracy: 0.7439, F1: 0.6347, Precision: 0.5534, Recall: 0.7439\n",
            "  Time Taken: 68.07 seconds\n",
            "\n",
            "\n",
            "Running Fold 2...\n"
          ]
        },
        {
          "output_type": "stream",
          "name": "stderr",
          "text": [
            "/usr/local/lib/python3.10/dist-packages/sklearn/metrics/_classification.py:1531: UndefinedMetricWarning: Precision is ill-defined and being set to 0.0 in labels with no predicted samples. Use `zero_division` parameter to control this behavior.\n",
            "  _warn_prf(average, modifier, f\"{metric.capitalize()} is\", len(result))\n",
            "/usr/local/lib/python3.10/dist-packages/sklearn/metrics/_classification.py:1531: UndefinedMetricWarning: Precision is ill-defined and being set to 0.0 in labels with no predicted samples. Use `zero_division` parameter to control this behavior.\n",
            "  _warn_prf(average, modifier, f\"{metric.capitalize()} is\", len(result))\n",
            "/usr/local/lib/python3.10/dist-packages/keras/src/layers/core/embedding.py:90: UserWarning: Argument `input_length` is deprecated. Just remove it.\n",
            "  warnings.warn(\n"
          ]
        },
        {
          "output_type": "stream",
          "name": "stdout",
          "text": [
            "Epoch 51: early stopping\n",
            "Restoring model weights from the end of the best epoch: 31.\n",
            "\u001b[1m577/577\u001b[0m \u001b[32m━━━━━━━━━━━━━━━━━━━━\u001b[0m\u001b[37m\u001b[0m \u001b[1m2s\u001b[0m 4ms/step\n",
            "\u001b[1m65/65\u001b[0m \u001b[32m━━━━━━━━━━━━━━━━━━━━\u001b[0m\u001b[37m\u001b[0m \u001b[1m0s\u001b[0m 3ms/step\n",
            "Fold 2 Results:\n",
            "  Train -> Accuracy: 0.7361, F1: 0.6243, Precision: 0.5419, Recall: 0.7361\n",
            "  Test  -> Accuracy: 0.7404, F1: 0.6299, Precision: 0.5481, Recall: 0.7404\n",
            "  Time Taken: 141.74 seconds\n",
            "\n",
            "\n",
            "Running Fold 3...\n"
          ]
        },
        {
          "output_type": "stream",
          "name": "stderr",
          "text": [
            "/usr/local/lib/python3.10/dist-packages/sklearn/metrics/_classification.py:1531: UndefinedMetricWarning: Precision is ill-defined and being set to 0.0 in labels with no predicted samples. Use `zero_division` parameter to control this behavior.\n",
            "  _warn_prf(average, modifier, f\"{metric.capitalize()} is\", len(result))\n",
            "/usr/local/lib/python3.10/dist-packages/sklearn/metrics/_classification.py:1531: UndefinedMetricWarning: Precision is ill-defined and being set to 0.0 in labels with no predicted samples. Use `zero_division` parameter to control this behavior.\n",
            "  _warn_prf(average, modifier, f\"{metric.capitalize()} is\", len(result))\n",
            "/usr/local/lib/python3.10/dist-packages/keras/src/layers/core/embedding.py:90: UserWarning: Argument `input_length` is deprecated. Just remove it.\n",
            "  warnings.warn(\n"
          ]
        },
        {
          "output_type": "stream",
          "name": "stdout",
          "text": [
            "Epoch 49: early stopping\n",
            "Restoring model weights from the end of the best epoch: 29.\n",
            "\u001b[1m577/577\u001b[0m \u001b[32m━━━━━━━━━━━━━━━━━━━━\u001b[0m\u001b[37m\u001b[0m \u001b[1m2s\u001b[0m 3ms/step\n",
            "\u001b[1m65/65\u001b[0m \u001b[32m━━━━━━━━━━━━━━━━━━━━\u001b[0m\u001b[37m\u001b[0m \u001b[1m0s\u001b[0m 3ms/step\n",
            "Fold 3 Results:\n",
            "  Train -> Accuracy: 0.7367, F1: 0.6251, Precision: 0.5428, Recall: 0.7367\n",
            "  Test  -> Accuracy: 0.7350, F1: 0.6227, Precision: 0.5402, Recall: 0.7350\n",
            "  Time Taken: 118.31 seconds\n",
            "\n",
            "\n",
            "Running Fold 4...\n"
          ]
        },
        {
          "output_type": "stream",
          "name": "stderr",
          "text": [
            "/usr/local/lib/python3.10/dist-packages/sklearn/metrics/_classification.py:1531: UndefinedMetricWarning: Precision is ill-defined and being set to 0.0 in labels with no predicted samples. Use `zero_division` parameter to control this behavior.\n",
            "  _warn_prf(average, modifier, f\"{metric.capitalize()} is\", len(result))\n",
            "/usr/local/lib/python3.10/dist-packages/sklearn/metrics/_classification.py:1531: UndefinedMetricWarning: Precision is ill-defined and being set to 0.0 in labels with no predicted samples. Use `zero_division` parameter to control this behavior.\n",
            "  _warn_prf(average, modifier, f\"{metric.capitalize()} is\", len(result))\n",
            "/usr/local/lib/python3.10/dist-packages/keras/src/layers/core/embedding.py:90: UserWarning: Argument `input_length` is deprecated. Just remove it.\n",
            "  warnings.warn(\n"
          ]
        },
        {
          "output_type": "stream",
          "name": "stdout",
          "text": [
            "Epoch 37: early stopping\n",
            "Restoring model weights from the end of the best epoch: 17.\n",
            "\u001b[1m577/577\u001b[0m \u001b[32m━━━━━━━━━━━━━━━━━━━━\u001b[0m\u001b[37m\u001b[0m \u001b[1m2s\u001b[0m 3ms/step\n",
            "\u001b[1m65/65\u001b[0m \u001b[32m━━━━━━━━━━━━━━━━━━━━\u001b[0m\u001b[37m\u001b[0m \u001b[1m0s\u001b[0m 3ms/step\n",
            "Fold 4 Results:\n",
            "  Train -> Accuracy: 0.7369, F1: 0.6253, Precision: 0.5430, Recall: 0.7369\n",
            "  Test  -> Accuracy: 0.7335, F1: 0.6208, Precision: 0.5381, Recall: 0.7335\n",
            "  Time Taken: 93.94 seconds\n",
            "\n",
            "\n",
            "Running Fold 5...\n"
          ]
        },
        {
          "output_type": "stream",
          "name": "stderr",
          "text": [
            "/usr/local/lib/python3.10/dist-packages/sklearn/metrics/_classification.py:1531: UndefinedMetricWarning: Precision is ill-defined and being set to 0.0 in labels with no predicted samples. Use `zero_division` parameter to control this behavior.\n",
            "  _warn_prf(average, modifier, f\"{metric.capitalize()} is\", len(result))\n",
            "/usr/local/lib/python3.10/dist-packages/sklearn/metrics/_classification.py:1531: UndefinedMetricWarning: Precision is ill-defined and being set to 0.0 in labels with no predicted samples. Use `zero_division` parameter to control this behavior.\n",
            "  _warn_prf(average, modifier, f\"{metric.capitalize()} is\", len(result))\n",
            "/usr/local/lib/python3.10/dist-packages/keras/src/layers/core/embedding.py:90: UserWarning: Argument `input_length` is deprecated. Just remove it.\n",
            "  warnings.warn(\n"
          ]
        },
        {
          "output_type": "stream",
          "name": "stdout",
          "text": [
            "Epoch 43: early stopping\n",
            "Restoring model weights from the end of the best epoch: 23.\n",
            "\u001b[1m577/577\u001b[0m \u001b[32m━━━━━━━━━━━━━━━━━━━━\u001b[0m\u001b[37m\u001b[0m \u001b[1m2s\u001b[0m 3ms/step\n",
            "\u001b[1m65/65\u001b[0m \u001b[32m━━━━━━━━━━━━━━━━━━━━\u001b[0m\u001b[37m\u001b[0m \u001b[1m0s\u001b[0m 3ms/step\n",
            "Fold 5 Results:\n",
            "  Train -> Accuracy: 0.7374, F1: 0.6259, Precision: 0.5437, Recall: 0.7374\n",
            "  Test  -> Accuracy: 0.7291, F1: 0.6149, Precision: 0.5316, Recall: 0.7291\n",
            "  Time Taken: 104.73 seconds\n",
            "\n",
            "\n",
            "Running Fold 6...\n"
          ]
        },
        {
          "output_type": "stream",
          "name": "stderr",
          "text": [
            "/usr/local/lib/python3.10/dist-packages/sklearn/metrics/_classification.py:1531: UndefinedMetricWarning: Precision is ill-defined and being set to 0.0 in labels with no predicted samples. Use `zero_division` parameter to control this behavior.\n",
            "  _warn_prf(average, modifier, f\"{metric.capitalize()} is\", len(result))\n",
            "/usr/local/lib/python3.10/dist-packages/sklearn/metrics/_classification.py:1531: UndefinedMetricWarning: Precision is ill-defined and being set to 0.0 in labels with no predicted samples. Use `zero_division` parameter to control this behavior.\n",
            "  _warn_prf(average, modifier, f\"{metric.capitalize()} is\", len(result))\n",
            "/usr/local/lib/python3.10/dist-packages/keras/src/layers/core/embedding.py:90: UserWarning: Argument `input_length` is deprecated. Just remove it.\n",
            "  warnings.warn(\n"
          ]
        },
        {
          "output_type": "stream",
          "name": "stdout",
          "text": [
            "Epoch 51: early stopping\n",
            "Restoring model weights from the end of the best epoch: 31.\n",
            "\u001b[1m577/577\u001b[0m \u001b[32m━━━━━━━━━━━━━━━━━━━━\u001b[0m\u001b[37m\u001b[0m \u001b[1m2s\u001b[0m 3ms/step\n",
            "\u001b[1m65/65\u001b[0m \u001b[32m━━━━━━━━━━━━━━━━━━━━\u001b[0m\u001b[37m\u001b[0m \u001b[1m0s\u001b[0m 3ms/step\n",
            "Fold 6 Results:\n",
            "  Train -> Accuracy: 0.7369, F1: 0.6253, Precision: 0.5430, Recall: 0.7369\n",
            "  Test  -> Accuracy: 0.7335, F1: 0.6208, Precision: 0.5381, Recall: 0.7335\n",
            "  Time Taken: 139.52 seconds\n",
            "\n",
            "\n",
            "Running Fold 7...\n"
          ]
        },
        {
          "output_type": "stream",
          "name": "stderr",
          "text": [
            "/usr/local/lib/python3.10/dist-packages/sklearn/metrics/_classification.py:1531: UndefinedMetricWarning: Precision is ill-defined and being set to 0.0 in labels with no predicted samples. Use `zero_division` parameter to control this behavior.\n",
            "  _warn_prf(average, modifier, f\"{metric.capitalize()} is\", len(result))\n",
            "/usr/local/lib/python3.10/dist-packages/sklearn/metrics/_classification.py:1531: UndefinedMetricWarning: Precision is ill-defined and being set to 0.0 in labels with no predicted samples. Use `zero_division` parameter to control this behavior.\n",
            "  _warn_prf(average, modifier, f\"{metric.capitalize()} is\", len(result))\n",
            "/usr/local/lib/python3.10/dist-packages/keras/src/layers/core/embedding.py:90: UserWarning: Argument `input_length` is deprecated. Just remove it.\n",
            "  warnings.warn(\n"
          ]
        },
        {
          "output_type": "stream",
          "name": "stdout",
          "text": [
            "Epoch 65: early stopping\n",
            "Restoring model weights from the end of the best epoch: 45.\n",
            "\u001b[1m577/577\u001b[0m \u001b[32m━━━━━━━━━━━━━━━━━━━━\u001b[0m\u001b[37m\u001b[0m \u001b[1m3s\u001b[0m 4ms/step\n",
            "\u001b[1m65/65\u001b[0m \u001b[32m━━━━━━━━━━━━━━━━━━━━\u001b[0m\u001b[37m\u001b[0m \u001b[1m0s\u001b[0m 3ms/step\n",
            "Fold 7 Results:\n",
            "  Train -> Accuracy: 0.7374, F1: 0.6260, Precision: 0.5438, Recall: 0.7374\n",
            "  Test  -> Accuracy: 0.7286, F1: 0.6143, Precision: 0.5309, Recall: 0.7286\n",
            "  Time Taken: 168.91 seconds\n",
            "\n",
            "\n",
            "Running Fold 8...\n"
          ]
        },
        {
          "output_type": "stream",
          "name": "stderr",
          "text": [
            "/usr/local/lib/python3.10/dist-packages/sklearn/metrics/_classification.py:1531: UndefinedMetricWarning: Precision is ill-defined and being set to 0.0 in labels with no predicted samples. Use `zero_division` parameter to control this behavior.\n",
            "  _warn_prf(average, modifier, f\"{metric.capitalize()} is\", len(result))\n",
            "/usr/local/lib/python3.10/dist-packages/sklearn/metrics/_classification.py:1531: UndefinedMetricWarning: Precision is ill-defined and being set to 0.0 in labels with no predicted samples. Use `zero_division` parameter to control this behavior.\n",
            "  _warn_prf(average, modifier, f\"{metric.capitalize()} is\", len(result))\n",
            "/usr/local/lib/python3.10/dist-packages/keras/src/layers/core/embedding.py:90: UserWarning: Argument `input_length` is deprecated. Just remove it.\n",
            "  warnings.warn(\n"
          ]
        },
        {
          "output_type": "stream",
          "name": "stdout",
          "text": [
            "Epoch 50: early stopping\n",
            "Restoring model weights from the end of the best epoch: 30.\n",
            "\u001b[1m577/577\u001b[0m \u001b[32m━━━━━━━━━━━━━━━━━━━━\u001b[0m\u001b[37m\u001b[0m \u001b[1m2s\u001b[0m 3ms/step\n",
            "\u001b[1m65/65\u001b[0m \u001b[32m━━━━━━━━━━━━━━━━━━━━\u001b[0m\u001b[37m\u001b[0m \u001b[1m0s\u001b[0m 3ms/step\n",
            "Fold 8 Results:\n",
            "  Train -> Accuracy: 0.7365, F1: 0.6247, Precision: 0.5424, Recall: 0.7365\n",
            "  Test  -> Accuracy: 0.7374, F1: 0.6260, Precision: 0.5438, Recall: 0.7374\n",
            "  Time Taken: 126.50 seconds\n",
            "\n",
            "\n",
            "Running Fold 9...\n"
          ]
        },
        {
          "output_type": "stream",
          "name": "stderr",
          "text": [
            "/usr/local/lib/python3.10/dist-packages/sklearn/metrics/_classification.py:1531: UndefinedMetricWarning: Precision is ill-defined and being set to 0.0 in labels with no predicted samples. Use `zero_division` parameter to control this behavior.\n",
            "  _warn_prf(average, modifier, f\"{metric.capitalize()} is\", len(result))\n",
            "/usr/local/lib/python3.10/dist-packages/sklearn/metrics/_classification.py:1531: UndefinedMetricWarning: Precision is ill-defined and being set to 0.0 in labels with no predicted samples. Use `zero_division` parameter to control this behavior.\n",
            "  _warn_prf(average, modifier, f\"{metric.capitalize()} is\", len(result))\n",
            "/usr/local/lib/python3.10/dist-packages/keras/src/layers/core/embedding.py:90: UserWarning: Argument `input_length` is deprecated. Just remove it.\n",
            "  warnings.warn(\n"
          ]
        },
        {
          "output_type": "stream",
          "name": "stdout",
          "text": [
            "Epoch 51: early stopping\n",
            "Restoring model weights from the end of the best epoch: 31.\n",
            "\u001b[1m577/577\u001b[0m \u001b[32m━━━━━━━━━━━━━━━━━━━━\u001b[0m\u001b[37m\u001b[0m \u001b[1m2s\u001b[0m 4ms/step\n",
            "\u001b[1m65/65\u001b[0m \u001b[32m━━━━━━━━━━━━━━━━━━━━\u001b[0m\u001b[37m\u001b[0m \u001b[1m0s\u001b[0m 4ms/step\n"
          ]
        },
        {
          "output_type": "stream",
          "name": "stderr",
          "text": [
            "/usr/local/lib/python3.10/dist-packages/sklearn/metrics/_classification.py:1531: UndefinedMetricWarning: Precision is ill-defined and being set to 0.0 in labels with no predicted samples. Use `zero_division` parameter to control this behavior.\n",
            "  _warn_prf(average, modifier, f\"{metric.capitalize()} is\", len(result))\n",
            "/usr/local/lib/python3.10/dist-packages/sklearn/metrics/_classification.py:1531: UndefinedMetricWarning: Precision is ill-defined and being set to 0.0 in labels with no predicted samples. Use `zero_division` parameter to control this behavior.\n",
            "  _warn_prf(average, modifier, f\"{metric.capitalize()} is\", len(result))\n",
            "/usr/local/lib/python3.10/dist-packages/keras/src/layers/core/embedding.py:90: UserWarning: Argument `input_length` is deprecated. Just remove it.\n",
            "  warnings.warn(\n"
          ]
        },
        {
          "output_type": "stream",
          "name": "stdout",
          "text": [
            "Fold 9 Results:\n",
            "  Train -> Accuracy: 0.7367, F1: 0.6250, Precision: 0.5427, Recall: 0.7367\n",
            "  Test  -> Accuracy: 0.7355, F1: 0.6234, Precision: 0.5409, Recall: 0.7355\n",
            "  Time Taken: 135.49 seconds\n",
            "\n",
            "\n",
            "Running Fold 10...\n",
            "Epoch 60: early stopping\n",
            "Restoring model weights from the end of the best epoch: 40.\n",
            "\u001b[1m577/577\u001b[0m \u001b[32m━━━━━━━━━━━━━━━━━━━━\u001b[0m\u001b[37m\u001b[0m \u001b[1m2s\u001b[0m 3ms/step\n",
            "\u001b[1m65/65\u001b[0m \u001b[32m━━━━━━━━━━━━━━━━━━━━\u001b[0m\u001b[37m\u001b[0m \u001b[1m0s\u001b[0m 3ms/step\n",
            "Fold 10 Results:\n",
            "  Train -> Accuracy: 0.7352, F1: 0.6230, Precision: 0.5406, Recall: 0.7352\n",
            "  Test  -> Accuracy: 0.7487, F1: 0.6411, Precision: 0.5605, Recall: 0.7487\n",
            "  Time Taken: 155.63 seconds\n",
            "\n",
            "\n",
            "Averaged Results Across All Folds:\n",
            "  Train -> Accuracy: 0.7366, F1: 0.6248, Precision: 0.5425, Recall: 0.7366\n",
            "  Test  -> Accuracy: 0.7366, F1: 0.6248, Precision: 0.5426, Recall: 0.7366\n",
            "  Average Time Taken per Fold: 125.28 seconds\n"
          ]
        },
        {
          "output_type": "stream",
          "name": "stderr",
          "text": [
            "/usr/local/lib/python3.10/dist-packages/sklearn/metrics/_classification.py:1531: UndefinedMetricWarning: Precision is ill-defined and being set to 0.0 in labels with no predicted samples. Use `zero_division` parameter to control this behavior.\n",
            "  _warn_prf(average, modifier, f\"{metric.capitalize()} is\", len(result))\n",
            "/usr/local/lib/python3.10/dist-packages/sklearn/metrics/_classification.py:1531: UndefinedMetricWarning: Precision is ill-defined and being set to 0.0 in labels with no predicted samples. Use `zero_division` parameter to control this behavior.\n",
            "  _warn_prf(average, modifier, f\"{metric.capitalize()} is\", len(result))\n"
          ]
        }
      ]
    },
    {
      "cell_type": "code",
      "source": [],
      "metadata": {
        "id": "_Py8mf6FqTPO"
      },
      "execution_count": 11,
      "outputs": []
    }
  ]
}